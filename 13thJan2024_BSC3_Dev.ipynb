{
  "nbformat": 4,
  "nbformat_minor": 0,
  "metadata": {
    "colab": {
      "provenance": []
    },
    "kernelspec": {
      "name": "python3",
      "display_name": "Python 3"
    },
    "language_info": {
      "name": "python"
    }
  },
  "cells": [
    {
      "cell_type": "markdown",
      "source": [
        "<hr>\n",
        "\n",
        "#**Topic / Agenda for Class**#\n",
        "1. **Sets**\n",
        "\n",
        "2. **Dictionary**\n",
        "    * Adding\n",
        "    * Accessing\n",
        "    * Deletion\n",
        "\n",
        "3. **Conditional Statements**\n",
        "\n",
        "4. **Loops**\n",
        "\n",
        "5. **Functions**\n",
        "\n",
        "6. **Lambda Functions**\n",
        "\n",
        "<hr>"
      ],
      "metadata": {
        "id": "VXW4T3U7GL8c"
      }
    },
    {
      "cell_type": "markdown",
      "source": [
        "<hr>\n",
        "\n",
        "#**Topic 1: Sets**#\n",
        "\n",
        "**Def: It is a datatype, that is used for removing the dulicacy, or for just the unique/distinct elements are counted. In this datatype, we don't have the changeability criteria moreover, we also don't have the concept of the indexing/position.**\n",
        "\n",
        "Create: {} (curly braces)\n",
        "\n",
        "<hr>"
      ],
      "metadata": {
        "id": "BxUZMuZzHax2"
      }
    },
    {
      "cell_type": "markdown",
      "source": [
        "Normal Set"
      ],
      "metadata": {
        "id": "nEC6uDUCKnIF"
      }
    },
    {
      "cell_type": "code",
      "execution_count": null,
      "metadata": {
        "colab": {
          "base_uri": "https://localhost:8080/"
        },
        "id": "WaKW5lZ5DpjT",
        "outputId": "c90acc48-b2ae-45a1-c425-1fbb1b473241"
      },
      "outputs": [
        {
          "output_type": "execute_result",
          "data": {
            "text/plain": [
              "{1, 2, 3, 4, 5, 6, 7, 8, 9, 10}"
            ]
          },
          "metadata": {},
          "execution_count": 10
        }
      ],
      "source": [
        "set1 = {1, 1, 2, 3, 4, 5, 5, 6, 7, 8, 9, 9, 10}\n",
        "# as per our conclusion there are 13 elements\n",
        "len(set1)\n",
        "set1"
      ]
    },
    {
      "cell_type": "markdown",
      "source": [
        "Strings sets"
      ],
      "metadata": {
        "id": "jdK1-u7PKkbT"
      }
    },
    {
      "cell_type": "code",
      "source": [
        "textSet = {'Dev', 'Dev', 'Varchasva', 'Manoj', 'Manoj', 'Sachin', 'Jaymin', 'Aishwaraya', 'Aishwaraya'}\n",
        "# as per our conclusion there are 9 elements\n",
        "textSet, len(textSet)"
      ],
      "metadata": {
        "colab": {
          "base_uri": "https://localhost:8080/"
        },
        "id": "zXZwdCEOIfJd",
        "outputId": "81b6aae2-1615-4c66-e6d6-b0f5304e756b"
      },
      "execution_count": null,
      "outputs": [
        {
          "output_type": "execute_result",
          "data": {
            "text/plain": [
              "({'Aishwaraya', 'Dev', 'Jaymin', 'Manoj', 'Sachin', 'Varchasva'}, 6)"
            ]
          },
          "metadata": {},
          "execution_count": 11
        }
      ]
    },
    {
      "cell_type": "markdown",
      "source": [
        "Typecasting of the list / tuples into the sets"
      ],
      "metadata": {
        "id": "x2zvZLftKg1v"
      }
    },
    {
      "cell_type": "code",
      "source": [
        "textList = ['Dev', 'Dev', 'Varchasva', 'Manoj', 'Manoj', 'Sachin', 'Jaymin', 'Aishwaraya', 'Aishwaraya']\n",
        "#type casting\n",
        "setText = set(textList)\n",
        "setText"
      ],
      "metadata": {
        "colab": {
          "base_uri": "https://localhost:8080/"
        },
        "id": "_ebhLtEUJ2f6",
        "outputId": "e3f53f00-2ee2-48b5-9074-d5ff55bb26e3"
      },
      "execution_count": null,
      "outputs": [
        {
          "output_type": "execute_result",
          "data": {
            "text/plain": [
              "{'Aishwaraya', 'Dev', 'Jaymin', 'Manoj', 'Sachin', 'Varchasva'}"
            ]
          },
          "metadata": {},
          "execution_count": 12
        }
      ]
    },
    {
      "cell_type": "markdown",
      "source": [
        "Changeability / Mutable"
      ],
      "metadata": {
        "id": "k4D620c3Lu6R"
      }
    },
    {
      "cell_type": "code",
      "source": [
        "setText[1] = 'Akash'"
      ],
      "metadata": {
        "colab": {
          "base_uri": "https://localhost:8080/",
          "height": 175
        },
        "id": "vDbih45qK5xd",
        "outputId": "db7f18cf-b189-49bc-c7a0-bbaaea365c4e"
      },
      "execution_count": null,
      "outputs": [
        {
          "output_type": "error",
          "ename": "TypeError",
          "evalue": "'set' object does not support item assignment",
          "traceback": [
            "\u001b[0;31m---------------------------------------------------------------------------\u001b[0m",
            "\u001b[0;31mTypeError\u001b[0m                                 Traceback (most recent call last)",
            "\u001b[0;32m<ipython-input-13-c83f68d1f767>\u001b[0m in \u001b[0;36m<cell line: 1>\u001b[0;34m()\u001b[0m\n\u001b[0;32m----> 1\u001b[0;31m \u001b[0msetText\u001b[0m\u001b[0;34m[\u001b[0m\u001b[0;36m1\u001b[0m\u001b[0;34m]\u001b[0m \u001b[0;34m=\u001b[0m \u001b[0;34m'Akash'\u001b[0m\u001b[0;34m\u001b[0m\u001b[0;34m\u001b[0m\u001b[0m\n\u001b[0m",
            "\u001b[0;31mTypeError\u001b[0m: 'set' object does not support item assignment"
          ]
        }
      ]
    },
    {
      "cell_type": "markdown",
      "source": [
        "**Topic 1a. Adding and Deletion in sets**"
      ],
      "metadata": {
        "id": "-V3MzKU1L-Tg"
      }
    },
    {
      "cell_type": "code",
      "source": [
        "# for adding the element ---> add()\n",
        "# syntax: setName.add(element_to_be_added)\n",
        "setText.add('Sonam')\n",
        "setText"
      ],
      "metadata": {
        "colab": {
          "base_uri": "https://localhost:8080/"
        },
        "id": "oX7J-gKeL12W",
        "outputId": "b87bfca8-ad33-4f7f-ebff-ca9fccb890de"
      },
      "execution_count": null,
      "outputs": [
        {
          "output_type": "execute_result",
          "data": {
            "text/plain": [
              "{'Aishwaraya', 'Dev', 'Jaymin', 'Manoj', 'Sachin', 'Sonam', 'Varchasva'}"
            ]
          },
          "metadata": {},
          "execution_count": 14
        }
      ]
    },
    {
      "cell_type": "markdown",
      "source": [
        "Only one method for adding the element"
      ],
      "metadata": {
        "id": "aZXrDJTLM9vV"
      }
    },
    {
      "cell_type": "code",
      "source": [
        "# deletion -> pop(), discard(), remove()\n",
        "\n",
        "# pop() -> randomly deletes a element from sets\n",
        "# syntax: setName.pop()\n",
        "\n",
        "setText.pop()"
      ],
      "metadata": {
        "colab": {
          "base_uri": "https://localhost:8080/",
          "height": 35
        },
        "id": "eBiMRMpzMN_z",
        "outputId": "400ecf05-1cc3-48d7-f535-a3463156a731"
      },
      "execution_count": null,
      "outputs": [
        {
          "output_type": "execute_result",
          "data": {
            "text/plain": [
              "'Jaymin'"
            ],
            "application/vnd.google.colaboratory.intrinsic+json": {
              "type": "string"
            }
          },
          "metadata": {},
          "execution_count": 15
        }
      ]
    },
    {
      "cell_type": "markdown",
      "source": [
        "Issue faced when you pass a number to it"
      ],
      "metadata": {
        "id": "scLEJPSeORXH"
      }
    },
    {
      "cell_type": "code",
      "source": [
        "setText.pop()"
      ],
      "metadata": {
        "colab": {
          "base_uri": "https://localhost:8080/",
          "height": 175
        },
        "id": "L4nK4XzzNtHC",
        "outputId": "a8f83977-bb7e-4bdb-d949-f9bb8fae6efe"
      },
      "execution_count": null,
      "outputs": [
        {
          "output_type": "error",
          "ename": "TypeError",
          "evalue": "set.pop() takes no arguments (1 given)",
          "traceback": [
            "\u001b[0;31m---------------------------------------------------------------------------\u001b[0m",
            "\u001b[0;31mTypeError\u001b[0m                                 Traceback (most recent call last)",
            "\u001b[0;32m<ipython-input-17-62e0b750eefd>\u001b[0m in \u001b[0;36m<cell line: 1>\u001b[0;34m()\u001b[0m\n\u001b[0;32m----> 1\u001b[0;31m \u001b[0msetText\u001b[0m\u001b[0;34m.\u001b[0m\u001b[0mpop\u001b[0m\u001b[0;34m(\u001b[0m\u001b[0;36m2\u001b[0m\u001b[0;34m)\u001b[0m\u001b[0;34m\u001b[0m\u001b[0;34m\u001b[0m\u001b[0m\n\u001b[0m",
            "\u001b[0;31mTypeError\u001b[0m: set.pop() takes no arguments (1 given)"
          ]
        }
      ]
    },
    {
      "cell_type": "code",
      "source": [
        "# discard() / remove()\n",
        "# synx: setname.discard()/remove(element_to_be_removed)\n",
        "setText"
      ],
      "metadata": {
        "colab": {
          "base_uri": "https://localhost:8080/"
        },
        "id": "sCN-JYwONy_S",
        "outputId": "6ca95826-d67e-4dd1-f866-61ec6363b1cb"
      },
      "execution_count": null,
      "outputs": [
        {
          "output_type": "execute_result",
          "data": {
            "text/plain": [
              "{'Aishwaraya', 'Manoj', 'Sachin', 'Sonam', 'Varchasva'}"
            ]
          },
          "metadata": {},
          "execution_count": 18
        }
      ]
    },
    {
      "cell_type": "code",
      "source": [
        "setText.discard('Manoj')"
      ],
      "metadata": {
        "id": "D89l8Wf0OpBw"
      },
      "execution_count": null,
      "outputs": []
    },
    {
      "cell_type": "code",
      "source": [
        "setText"
      ],
      "metadata": {
        "colab": {
          "base_uri": "https://localhost:8080/"
        },
        "id": "YEEiy5WbOsRJ",
        "outputId": "1930e65e-8ed9-4b33-8800-a560a0c29991"
      },
      "execution_count": null,
      "outputs": [
        {
          "output_type": "execute_result",
          "data": {
            "text/plain": [
              "{'Aishwaraya', 'Sachin', 'Sonam', 'Varchasva'}"
            ]
          },
          "metadata": {},
          "execution_count": 20
        }
      ]
    },
    {
      "cell_type": "code",
      "source": [
        "setText.remove('Sonam')"
      ],
      "metadata": {
        "id": "pwMZ2_orOtVF"
      },
      "execution_count": null,
      "outputs": []
    },
    {
      "cell_type": "code",
      "source": [
        "setText"
      ],
      "metadata": {
        "colab": {
          "base_uri": "https://localhost:8080/"
        },
        "id": "cXdpCZyoOxTt",
        "outputId": "6eef760b-2e25-450a-938e-b6cc79ffe19f"
      },
      "execution_count": null,
      "outputs": [
        {
          "output_type": "execute_result",
          "data": {
            "text/plain": [
              "{'Aishwaraya', 'Sachin', 'Varchasva'}"
            ]
          },
          "metadata": {},
          "execution_count": 22
        }
      ]
    },
    {
      "cell_type": "markdown",
      "source": [
        "The discard() method removes the specified item from the set. This method is different from the remove() method, because the remove() method will raise an error if the specified item does not exist, and the discard() method will not.\n"
      ],
      "metadata": {
        "id": "r2rAFN9cPlaH"
      }
    },
    {
      "cell_type": "code",
      "source": [
        "setText.discard('Dev') # error handling is poor"
      ],
      "metadata": {
        "id": "Vbvn0Ha1PHRk"
      },
      "execution_count": null,
      "outputs": []
    },
    {
      "cell_type": "code",
      "source": [
        "setText.remove('Dev') # error has been provided"
      ],
      "metadata": {
        "colab": {
          "base_uri": "https://localhost:8080/",
          "height": 175
        },
        "id": "ofomXYDCPjiG",
        "outputId": "4373a78e-a857-4313-af4f-e98f2a46fc26"
      },
      "execution_count": null,
      "outputs": [
        {
          "output_type": "error",
          "ename": "KeyError",
          "evalue": "'Dev'",
          "traceback": [
            "\u001b[0;31m---------------------------------------------------------------------------\u001b[0m",
            "\u001b[0;31mKeyError\u001b[0m                                  Traceback (most recent call last)",
            "\u001b[0;32m<ipython-input-27-508545a5a405>\u001b[0m in \u001b[0;36m<cell line: 1>\u001b[0;34m()\u001b[0m\n\u001b[0;32m----> 1\u001b[0;31m \u001b[0msetText\u001b[0m\u001b[0;34m.\u001b[0m\u001b[0mremove\u001b[0m\u001b[0;34m(\u001b[0m\u001b[0;34m'Dev'\u001b[0m\u001b[0;34m)\u001b[0m \u001b[0;31m# error has been provided\u001b[0m\u001b[0;34m\u001b[0m\u001b[0;34m\u001b[0m\u001b[0m\n\u001b[0m",
            "\u001b[0;31mKeyError\u001b[0m: 'Dev'"
          ]
        }
      ]
    },
    {
      "cell_type": "code",
      "source": [
        "setText"
      ],
      "metadata": {
        "colab": {
          "base_uri": "https://localhost:8080/"
        },
        "id": "JACVliaTPxQ4",
        "outputId": "cf9db1f0-35cf-41ed-c45e-a4d0a07f5845"
      },
      "execution_count": null,
      "outputs": [
        {
          "output_type": "execute_result",
          "data": {
            "text/plain": [
              "{'Aishwaraya', 'Sachin', 'Varchasva'}"
            ]
          },
          "metadata": {},
          "execution_count": 28
        }
      ]
    },
    {
      "cell_type": "code",
      "source": [
        "setText1 = {'Sachin', 'Varchasva'}"
      ],
      "metadata": {
        "id": "eODe5KUkQMWb"
      },
      "execution_count": null,
      "outputs": []
    },
    {
      "cell_type": "code",
      "source": [
        "setText.issubset(setText1)"
      ],
      "metadata": {
        "colab": {
          "base_uri": "https://localhost:8080/"
        },
        "id": "6ZzM1wDZQSBj",
        "outputId": "bf2e26a6-00de-4d66-bf1f-b563e291ea69"
      },
      "execution_count": null,
      "outputs": [
        {
          "output_type": "execute_result",
          "data": {
            "text/plain": [
              "False"
            ]
          },
          "metadata": {},
          "execution_count": 30
        }
      ]
    },
    {
      "cell_type": "markdown",
      "source": [
        "<hr>\n",
        "\n",
        "#**Topic 2: Dictionary**#\n",
        "\n",
        "**Def: this is a datatype that consists on Key-value pairs. Now here instead of indexing, we have the concept of keys for accessing elements, or for position**\n",
        "\n",
        "Create: {key1:value1 , key2:value2 , ... keyN: valueN}\n",
        "<hr>"
      ],
      "metadata": {
        "id": "ZChK_8rjQfbO"
      }
    },
    {
      "cell_type": "code",
      "source": [
        "# creation of dictionary\n",
        "contactDetails = {\n",
        "    'Name':'Sonam Jain',\n",
        "    'Email': 'sonamjain@email.com',\n",
        "    'Phone': 9876543210,\n",
        "    'Address': \"INDIA\",\n",
        "    'Comments': 'Python/Data Science'\n",
        "}"
      ],
      "metadata": {
        "id": "d_XYRbzcQgzI"
      },
      "execution_count": null,
      "outputs": []
    },
    {
      "cell_type": "code",
      "source": [
        "type(contactDetails)"
      ],
      "metadata": {
        "colab": {
          "base_uri": "https://localhost:8080/"
        },
        "id": "vwzA6Z-uRzr1",
        "outputId": "826eaa70-1fd3-417b-d5a9-0550e86e4993"
      },
      "execution_count": null,
      "outputs": [
        {
          "output_type": "execute_result",
          "data": {
            "text/plain": [
              "dict"
            ]
          },
          "metadata": {},
          "execution_count": 32
        }
      ]
    },
    {
      "cell_type": "code",
      "source": [
        "contactDetails"
      ],
      "metadata": {
        "colab": {
          "base_uri": "https://localhost:8080/"
        },
        "id": "lLH55WRgR2Oy",
        "outputId": "e842d37f-5e70-4492-c7b4-b89a13792efd"
      },
      "execution_count": null,
      "outputs": [
        {
          "output_type": "execute_result",
          "data": {
            "text/plain": [
              "{'Name': 'Sonam Jain',\n",
              " 'Email': 'sonamjain@email.com',\n",
              " 'Phone': 9876543210,\n",
              " 'Address': 'INDIA',\n",
              " 'Comments': 'Python/Data Science'}"
            ]
          },
          "metadata": {},
          "execution_count": 33
        }
      ]
    },
    {
      "cell_type": "markdown",
      "source": [
        "**Topic 2a: Accessing a Dictionary**"
      ],
      "metadata": {
        "id": "rmJGQ_FjS8V6"
      }
    },
    {
      "cell_type": "code",
      "source": [
        "contactDetails['Name']"
      ],
      "metadata": {
        "colab": {
          "base_uri": "https://localhost:8080/",
          "height": 35
        },
        "id": "VaowmfkpSwHk",
        "outputId": "f99ee69c-f232-4260-a2a4-4a96c8d92196"
      },
      "execution_count": null,
      "outputs": [
        {
          "output_type": "execute_result",
          "data": {
            "text/plain": [
              "'Sonam Jain'"
            ],
            "application/vnd.google.colaboratory.intrinsic+json": {
              "type": "string"
            }
          },
          "metadata": {},
          "execution_count": 36
        }
      ]
    },
    {
      "cell_type": "code",
      "source": [
        "contactDetails['Email']"
      ],
      "metadata": {
        "colab": {
          "base_uri": "https://localhost:8080/",
          "height": 35
        },
        "id": "_9rUzixtUG6a",
        "outputId": "a6605e5b-c2d9-4307-86a7-fd826000fe37"
      },
      "execution_count": null,
      "outputs": [
        {
          "output_type": "execute_result",
          "data": {
            "text/plain": [
              "'sonamjain@email.com'"
            ],
            "application/vnd.google.colaboratory.intrinsic+json": {
              "type": "string"
            }
          },
          "metadata": {},
          "execution_count": 37
        }
      ]
    },
    {
      "cell_type": "markdown",
      "source": [
        "**Topic 2b. Changing a particular element**"
      ],
      "metadata": {
        "id": "e2jd_vGSUl_y"
      }
    },
    {
      "cell_type": "code",
      "source": [
        "# syn: dictName[key] = value_to_be_changed\n",
        "contactDetails['Address'] = 'Delhi, India'"
      ],
      "metadata": {
        "id": "uBmst0k1UVl5"
      },
      "execution_count": null,
      "outputs": []
    },
    {
      "cell_type": "code",
      "source": [
        "contactDetails"
      ],
      "metadata": {
        "colab": {
          "base_uri": "https://localhost:8080/"
        },
        "id": "_NYwQU3XUzFm",
        "outputId": "0c61b5e3-0411-46d9-d9b7-682a24b6feda"
      },
      "execution_count": null,
      "outputs": [
        {
          "output_type": "execute_result",
          "data": {
            "text/plain": [
              "{'Name': 'Sonam Jain',\n",
              " 'Email': 'sonamjain@email.com',\n",
              " 'Phone': 9876543210,\n",
              " 'Address': 'Delhi, India',\n",
              " 'Comments': 'Python/Data Science'}"
            ]
          },
          "metadata": {},
          "execution_count": 40
        }
      ]
    },
    {
      "cell_type": "markdown",
      "source": [
        "**Topic 2c. Duplicacy can be there with the value, but not with the keys**"
      ],
      "metadata": {
        "id": "XnEjaPzZU5kE"
      }
    },
    {
      "cell_type": "code",
      "source": [
        "carDetails = {\n",
        "    'Brand': \"Ford\",\n",
        "    'Model': \"Mustang\",\n",
        "    'Year': '2017',\n",
        "    'KMS Driven': 20000,\n",
        "    'Color': 'Red',\n",
        "    'Color': 'Black',\n",
        "    'InteriorColor': 'Black'\n",
        "}"
      ],
      "metadata": {
        "id": "03LLhABjU0V8"
      },
      "execution_count": null,
      "outputs": []
    },
    {
      "cell_type": "code",
      "source": [
        "carDetails"
      ],
      "metadata": {
        "colab": {
          "base_uri": "https://localhost:8080/"
        },
        "id": "9kGKEByyWC6-",
        "outputId": "b9b5eada-47dd-4633-9f10-658dfecb709f"
      },
      "execution_count": null,
      "outputs": [
        {
          "output_type": "execute_result",
          "data": {
            "text/plain": [
              "{'Brand': 'Ford',\n",
              " 'Model': 'Mustang',\n",
              " 'Year': '2017',\n",
              " 'KMS Driven': 20000,\n",
              " 'Color': 'Black',\n",
              " 'InteriorColor': 'Black'}"
            ]
          },
          "metadata": {},
          "execution_count": 44
        }
      ]
    },
    {
      "cell_type": "markdown",
      "source": [
        "**Topic 2d. Adding something to dictionary**"
      ],
      "metadata": {
        "id": "Y_amRrCKXFRn"
      }
    },
    {
      "cell_type": "code",
      "source": [
        "# adding:\n",
        "# syn: dictName[newKey] = newVal\n",
        "carDetails['Price'] = '$123, 239'\n",
        "carDetails"
      ],
      "metadata": {
        "colab": {
          "base_uri": "https://localhost:8080/"
        },
        "id": "XqtR9V-vW46I",
        "outputId": "92d7a8c0-9103-45b4-bb60-c0f115693eeb"
      },
      "execution_count": null,
      "outputs": [
        {
          "output_type": "execute_result",
          "data": {
            "text/plain": [
              "{'Brand': 'Ford',\n",
              " 'Model': 'Mustang',\n",
              " 'Year': '2017',\n",
              " 'KMS Driven': 20000,\n",
              " 'Color': 'Black',\n",
              " 'InteriorColor': 'Black',\n",
              " 'Price': '$123, 239'}"
            ]
          },
          "metadata": {},
          "execution_count": 47
        }
      ]
    },
    {
      "cell_type": "code",
      "source": [
        "carDetails['Price'] = 123454\n",
        "carDetails"
      ],
      "metadata": {
        "colab": {
          "base_uri": "https://localhost:8080/"
        },
        "id": "oqR53mERX5UX",
        "outputId": "a189208f-792c-4b3c-a010-97865fe4543a"
      },
      "execution_count": null,
      "outputs": [
        {
          "output_type": "execute_result",
          "data": {
            "text/plain": [
              "{'Brand': 'Ford',\n",
              " 'Model': 'Mustang',\n",
              " 'Year': '2017',\n",
              " 'KMS Driven': 20000,\n",
              " 'Color': 'Black',\n",
              " 'InteriorColor': 'Black',\n",
              " 'Price': 123454}"
            ]
          },
          "metadata": {},
          "execution_count": 48
        }
      ]
    },
    {
      "cell_type": "markdown",
      "source": [
        "**Topic 2e. Deletion**"
      ],
      "metadata": {
        "id": "VXRD4j-ZYXdg"
      }
    },
    {
      "cell_type": "code",
      "source": [
        "# pop() -> for deletion\n",
        "# syn: dictNmae.pop(key)\n",
        "# it throws a error if key is not provided\n",
        "carDetails.pop(\"InteriorColor\")"
      ],
      "metadata": {
        "colab": {
          "base_uri": "https://localhost:8080/",
          "height": 35
        },
        "id": "vhLkxmBBYANM",
        "outputId": "ac1b3959-ee0a-4707-99c4-4936ca04aa58"
      },
      "execution_count": null,
      "outputs": [
        {
          "output_type": "execute_result",
          "data": {
            "text/plain": [
              "'Black'"
            ],
            "application/vnd.google.colaboratory.intrinsic+json": {
              "type": "string"
            }
          },
          "metadata": {},
          "execution_count": 50
        }
      ]
    },
    {
      "cell_type": "code",
      "source": [
        "carDetails"
      ],
      "metadata": {
        "colab": {
          "base_uri": "https://localhost:8080/"
        },
        "id": "j1qTfalJYmTK",
        "outputId": "77a34353-4449-4d68-c442-d5ba8e09753e"
      },
      "execution_count": null,
      "outputs": [
        {
          "output_type": "execute_result",
          "data": {
            "text/plain": [
              "{'Brand': 'Ford',\n",
              " 'Model': 'Mustang',\n",
              " 'Year': '2017',\n",
              " 'KMS Driven': 20000,\n",
              " 'Color': 'Black',\n",
              " 'Price': 123454}"
            ]
          },
          "metadata": {},
          "execution_count": 51
        }
      ]
    },
    {
      "cell_type": "code",
      "source": [
        "carDetails.popitem() # drops the last element"
      ],
      "metadata": {
        "colab": {
          "base_uri": "https://localhost:8080/"
        },
        "id": "nIUszUUBYwmC",
        "outputId": "6ece764d-2f9e-424d-bb64-e70e5202798f"
      },
      "execution_count": null,
      "outputs": [
        {
          "output_type": "execute_result",
          "data": {
            "text/plain": [
              "('Price', 123454)"
            ]
          },
          "metadata": {},
          "execution_count": 53
        }
      ]
    },
    {
      "cell_type": "code",
      "source": [
        "carDetails"
      ],
      "metadata": {
        "colab": {
          "base_uri": "https://localhost:8080/"
        },
        "id": "UxB6x9ITY4-u",
        "outputId": "e29263e7-eaa5-43f2-b011-ea5400be5322"
      },
      "execution_count": null,
      "outputs": [
        {
          "output_type": "execute_result",
          "data": {
            "text/plain": [
              "{'Brand': 'Ford',\n",
              " 'Model': 'Mustang',\n",
              " 'Year': '2017',\n",
              " 'KMS Driven': 20000,\n",
              " 'Color': 'Black'}"
            ]
          },
          "metadata": {},
          "execution_count": 54
        }
      ]
    },
    {
      "cell_type": "markdown",
      "source": [
        "**Topic 2f. Function to Dictionary**"
      ],
      "metadata": {
        "id": "69wUtPDZZBNr"
      }
    },
    {
      "cell_type": "code",
      "source": [
        "# if you want to get all the keys only\n",
        "carDetails.keys()"
      ],
      "metadata": {
        "colab": {
          "base_uri": "https://localhost:8080/"
        },
        "id": "jFvMwnSnY-BK",
        "outputId": "40d2c59c-58d1-46cb-b7a6-63b6ad7e545a"
      },
      "execution_count": null,
      "outputs": [
        {
          "output_type": "execute_result",
          "data": {
            "text/plain": [
              "dict_keys(['Brand', 'Model', 'Year', 'KMS Driven', 'Color'])"
            ]
          },
          "metadata": {},
          "execution_count": 55
        }
      ]
    },
    {
      "cell_type": "code",
      "source": [
        "# if you want to get all the values only\n",
        "carDetails.values()"
      ],
      "metadata": {
        "colab": {
          "base_uri": "https://localhost:8080/"
        },
        "id": "ZpuT_M76ZKmm",
        "outputId": "d4e65ac4-7047-488b-84da-a5b2fc70724d"
      },
      "execution_count": null,
      "outputs": [
        {
          "output_type": "execute_result",
          "data": {
            "text/plain": [
              "dict_values(['Ford', 'Mustang', '2017', 20000, 'Black'])"
            ]
          },
          "metadata": {},
          "execution_count": 56
        }
      ]
    },
    {
      "cell_type": "code",
      "source": [
        "# if you want to get all the pairs only\n",
        "carDetails.items()"
      ],
      "metadata": {
        "colab": {
          "base_uri": "https://localhost:8080/"
        },
        "id": "p77TaCZKZdZh",
        "outputId": "b22febff-54cf-4fb4-d188-0c383a589d00"
      },
      "execution_count": null,
      "outputs": [
        {
          "output_type": "execute_result",
          "data": {
            "text/plain": [
              "dict_items([('Brand', 'Ford'), ('Model', 'Mustang'), ('Year', '2017'), ('KMS Driven', 20000), ('Color', 'Black')])"
            ]
          },
          "metadata": {},
          "execution_count": 57
        }
      ]
    },
    {
      "cell_type": "markdown",
      "source": [
        "**Bonus: How to create a multi-value dictionary**"
      ],
      "metadata": {
        "id": "XY-7ii-NZt6d"
      }
    },
    {
      "cell_type": "code",
      "source": [
        "multiValDict = {\n",
        "    'Name' :\n",
        "     {\n",
        "         1:\n",
        "          {'Type':\n",
        "           ['A+', 'B+', 'O+']\n",
        "           }\n",
        "         },\n",
        "    2: 'Swati', 3: 'Akash'\n",
        "    }"
      ],
      "metadata": {
        "id": "6Cc0bxoIZkWA"
      },
      "execution_count": null,
      "outputs": []
    },
    {
      "cell_type": "code",
      "source": [
        "type(multiValDict)"
      ],
      "metadata": {
        "colab": {
          "base_uri": "https://localhost:8080/"
        },
        "id": "4y8BRi59aF5t",
        "outputId": "6ca4ce7c-ab4a-4b1f-c234-c021f360e201"
      },
      "execution_count": null,
      "outputs": [
        {
          "output_type": "execute_result",
          "data": {
            "text/plain": [
              "dict"
            ]
          },
          "metadata": {},
          "execution_count": 85
        }
      ]
    },
    {
      "cell_type": "markdown",
      "source": [
        "**Way to delete anything in the nested dictionary**"
      ],
      "metadata": {
        "id": "5ve6H2MyecI5"
      }
    },
    {
      "cell_type": "code",
      "source": [
        "# for key, value in multiValDict['Name'].items():\n",
        "#     if isinstance(value, dict) and 'Type' in value:\n",
        "#         del value['Type']\n",
        "\n",
        "# multiValDict"
      ],
      "metadata": {
        "id": "5QBbyTh_dwMQ"
      },
      "execution_count": null,
      "outputs": []
    },
    {
      "cell_type": "code",
      "source": [
        "multiValDict[\"Name\"][1].pop('Type')"
      ],
      "metadata": {
        "colab": {
          "base_uri": "https://localhost:8080/"
        },
        "id": "0iMWwKKBfXZa",
        "outputId": "34b1a872-6a30-4d46-dcc1-7ae171b5686e"
      },
      "execution_count": null,
      "outputs": [
        {
          "output_type": "execute_result",
          "data": {
            "text/plain": [
              "['A+', 'B+', 'O+']"
            ]
          },
          "metadata": {},
          "execution_count": 87
        }
      ]
    },
    {
      "cell_type": "markdown",
      "source": [
        "<hr>\n",
        "\n",
        "#**Topic 3: Conditional Statement**#\n",
        "\n",
        "<hr>"
      ],
      "metadata": {
        "id": "HFQqxzjOfniG"
      }
    },
    {
      "cell_type": "code",
      "source": [
        "biscuit = input('Enter the name: ')  # strings\n",
        "\n",
        "if biscuit == 'Orange':\n",
        "  print('Buy!!')\n",
        "else:\n",
        "  print('Give a drive!!')"
      ],
      "metadata": {
        "colab": {
          "base_uri": "https://localhost:8080/"
        },
        "id": "LYcwvh7WePCZ",
        "outputId": "99f7dbb5-66c1-41cc-bf72-5ff6cce853cc"
      },
      "execution_count": null,
      "outputs": [
        {
          "output_type": "stream",
          "name": "stdout",
          "text": [
            "Enter the name: Chocolate\n",
            "Give a drive!!\n"
          ]
        }
      ]
    },
    {
      "cell_type": "code",
      "source": [
        "a = 23\n",
        "b = 21\n",
        "print(a==b)"
      ],
      "metadata": {
        "colab": {
          "base_uri": "https://localhost:8080/"
        },
        "id": "RyHP4XpNgd7l",
        "outputId": "9b183e0a-ab52-44b5-a659-7db494812ce2"
      },
      "execution_count": null,
      "outputs": [
        {
          "output_type": "stream",
          "name": "stdout",
          "text": [
            "False\n"
          ]
        }
      ]
    },
    {
      "cell_type": "markdown",
      "source": [
        "Using elif, used for analyzing more than two condition"
      ],
      "metadata": {
        "id": "PDc68bA6hIzU"
      }
    },
    {
      "cell_type": "code",
      "source": [
        "biscuit = input('Enter the name: ')  # strings\n",
        "cake = input('Enter cake name: ')\n",
        "\n",
        "if biscuit == 'Orange':\n",
        "  print('Buy Biscuit!!')\n",
        "elif cake == 'Chocolate':\n",
        "  print('Buy Cake!!')\n",
        "else:\n",
        "  print('Give a drive!!')"
      ],
      "metadata": {
        "colab": {
          "base_uri": "https://localhost:8080/"
        },
        "id": "gKw-3B23guxD",
        "outputId": "a152f948-8f57-4f49-d3d3-3c788947846c"
      },
      "execution_count": null,
      "outputs": [
        {
          "output_type": "stream",
          "name": "stdout",
          "text": [
            "Enter the name: orange\n",
            "Enter cake name: pinapple\n",
            "Give a drive!!\n"
          ]
        }
      ]
    },
    {
      "cell_type": "code",
      "source": [
        "fileInput = input(\"Enter Status: \")\n",
        "\n",
        "if fileInput=='received':\n",
        "  print('Working on it!!')\n",
        "elif fileInput == 'In Transit':\n",
        "  print('In Transit, waiting for the file')\n",
        "elif fileInput == 'Error Occurred':\n",
        "  print('Error Happened, try to resolve')\n",
        "else:\n",
        "  print('Not Received!!')"
      ],
      "metadata": {
        "colab": {
          "base_uri": "https://localhost:8080/"
        },
        "id": "mUisfR0thluD",
        "outputId": "c1064f84-1fa8-4466-ebe2-0de44d445951"
      },
      "execution_count": null,
      "outputs": [
        {
          "output_type": "stream",
          "name": "stdout",
          "text": [
            "Enter Status: received\n",
            "Working on it!!\n"
          ]
        }
      ]
    },
    {
      "cell_type": "markdown",
      "source": [
        "<hr>\n",
        "\n",
        "#**Topic 4: Loops**#\n",
        "\n",
        "**Types of loops**\n",
        "1. for-loop (range)\n",
        "2. While-loop (conditional loop)\n",
        "<hr>"
      ],
      "metadata": {
        "id": "4ZBBMTjpj4rp"
      }
    },
    {
      "cell_type": "markdown",
      "source": [
        "1. **For loops**"
      ],
      "metadata": {
        "id": "zN51g_9olM0I"
      }
    },
    {
      "cell_type": "code",
      "source": [
        "# this loop basically works with the part of range, or any defined range\n",
        "# syn: for iterator(anyVariable) in range(startrange, endrange+1)\n",
        "\n",
        "for i in range(1, 21):\n",
        "  print(f\"The number is : {i}\")"
      ],
      "metadata": {
        "colab": {
          "base_uri": "https://localhost:8080/"
        },
        "id": "UHlxlaTwix8r",
        "outputId": "c160fea1-aa51-4de3-9f6a-d984e3f7f933"
      },
      "execution_count": null,
      "outputs": [
        {
          "output_type": "stream",
          "name": "stdout",
          "text": [
            "The number is : 1\n",
            "The number is : 2\n",
            "The number is : 3\n",
            "The number is : 4\n",
            "The number is : 5\n",
            "The number is : 6\n",
            "The number is : 7\n",
            "The number is : 8\n",
            "The number is : 9\n",
            "The number is : 10\n",
            "The number is : 11\n",
            "The number is : 12\n",
            "The number is : 13\n",
            "The number is : 14\n",
            "The number is : 15\n",
            "The number is : 16\n",
            "The number is : 17\n",
            "The number is : 18\n",
            "The number is : 19\n",
            "The number is : 20\n"
          ]
        }
      ]
    },
    {
      "cell_type": "code",
      "source": [
        "# not only range could be used also list could be used as range\n",
        "list1 = [2,3, 4, 5, 6, 7, 8, 8, 'Dev', 'Swati']\n",
        "for x in list1:\n",
        "  print(f\"Element: {x}\")\n",
        "  # format = f"
      ],
      "metadata": {
        "colab": {
          "base_uri": "https://localhost:8080/"
        },
        "id": "plGHk8OFlskF",
        "outputId": "4c2a16d3-4dec-4651-d278-7fe451256c00"
      },
      "execution_count": null,
      "outputs": [
        {
          "output_type": "stream",
          "name": "stdout",
          "text": [
            "Element: 2\n",
            "Element: 3\n",
            "Element: 4\n",
            "Element: 5\n",
            "Element: 6\n",
            "Element: 7\n",
            "Element: 8\n",
            "Element: 8\n",
            "Element: Dev\n",
            "Element: Swati\n"
          ]
        }
      ]
    },
    {
      "cell_type": "code",
      "source": [
        "# manually increamenting\n",
        "# syn: range(startPos, endPos+1, step)\n",
        "for i in range(2, 21, 2):\n",
        "  print(f\"The number is : {i}\")"
      ],
      "metadata": {
        "colab": {
          "base_uri": "https://localhost:8080/"
        },
        "id": "yzIEfp8_mYSL",
        "outputId": "9f55f4be-7125-47a4-ef5b-6a050b7a59f9"
      },
      "execution_count": null,
      "outputs": [
        {
          "output_type": "stream",
          "name": "stdout",
          "text": [
            "The number is : 2\n",
            "The number is : 4\n",
            "The number is : 6\n",
            "The number is : 8\n",
            "The number is : 10\n",
            "The number is : 12\n",
            "The number is : 14\n",
            "The number is : 16\n",
            "The number is : 18\n",
            "The number is : 20\n"
          ]
        }
      ]
    },
    {
      "cell_type": "markdown",
      "source": [
        "**While Loop**"
      ],
      "metadata": {
        "id": "_Xvn6KtlpUYz"
      }
    },
    {
      "cell_type": "code",
      "source": [
        "# while loop\n",
        "# syn: while condition:\n",
        "  #      operation\n",
        "# while loop is not a auto-increament loop\n",
        "\n",
        "distSachin = 0\n",
        "while distSachin<6:\n",
        "  print('Running!!')\n",
        "  print(f\"Distance Covered in this round: {distSachin}\")\n",
        "\n",
        "  # auto-increment\n",
        "  distSachin += 1\n",
        "  print(f'Updated distance: {distSachin}')\n",
        "  print(\"==============================================\")\n",
        "  # distSachin ++ / distSachin = distSachine + 1"
      ],
      "metadata": {
        "colab": {
          "base_uri": "https://localhost:8080/"
        },
        "id": "33lm5TBTpOmG",
        "outputId": "5fb1a75b-262e-4280-842b-b43a588f860c"
      },
      "execution_count": null,
      "outputs": [
        {
          "output_type": "stream",
          "name": "stdout",
          "text": [
            "Running!!\n",
            "Distance Covered in this round: 0\n",
            "Updated distance: 1\n",
            "==============================================\n",
            "Running!!\n",
            "Distance Covered in this round: 1\n",
            "Updated distance: 2\n",
            "==============================================\n",
            "Running!!\n",
            "Distance Covered in this round: 2\n",
            "Updated distance: 3\n",
            "==============================================\n",
            "Running!!\n",
            "Distance Covered in this round: 3\n",
            "Updated distance: 4\n",
            "==============================================\n",
            "Running!!\n",
            "Distance Covered in this round: 4\n",
            "Updated distance: 5\n",
            "==============================================\n",
            "Running!!\n",
            "Distance Covered in this round: 5\n",
            "Updated distance: 6\n",
            "==============================================\n"
          ]
        }
      ]
    },
    {
      "cell_type": "markdown",
      "source": [
        "<hr>\n",
        "\n",
        "#**Topic 5: Function**#\n",
        "**Def: This is a piece of code, that once written could be used multiple times, over different entities**\n",
        "\n",
        "<hr>"
      ],
      "metadata": {
        "id": "aDkcZwQ6rBpD"
      }
    },
    {
      "cell_type": "code",
      "source": [
        "# party\n",
        "# friendList = ['Akash', 'Sachin', 'Anuj', 'Jaymin', 'Shilpa', 'Swati', 'Asmita']"
      ],
      "metadata": {
        "id": "rajgW8N7qFkI"
      },
      "execution_count": null,
      "outputs": []
    },
    {
      "cell_type": "code",
      "source": [
        "def inviteFunc(name):\n",
        "    return f'Dear {name}, you are invited to a party. that is happening tonight at 8, please be there'"
      ],
      "metadata": {
        "id": "SGg719NVr1N1"
      },
      "execution_count": null,
      "outputs": []
    },
    {
      "cell_type": "code",
      "source": [
        "inviteFunc('Dev')"
      ],
      "metadata": {
        "colab": {
          "base_uri": "https://localhost:8080/",
          "height": 35
        },
        "id": "9OA1vsglsKCD",
        "outputId": "8adb0019-f9d8-432e-ab05-feb8752a5f7c"
      },
      "execution_count": null,
      "outputs": [
        {
          "output_type": "execute_result",
          "data": {
            "text/plain": [
              "'Dear Dev, you are invited to a party. that is happening tonight at 8, please be there'"
            ],
            "application/vnd.google.colaboratory.intrinsic+json": {
              "type": "string"
            }
          },
          "metadata": {},
          "execution_count": 121
        }
      ]
    },
    {
      "cell_type": "code",
      "source": [
        "inviteFunc('Asmita')"
      ],
      "metadata": {
        "colab": {
          "base_uri": "https://localhost:8080/",
          "height": 35
        },
        "id": "SY5Tpa8jsOEc",
        "outputId": "b333b485-f950-4082-cddf-fd294edc757a"
      },
      "execution_count": null,
      "outputs": [
        {
          "output_type": "execute_result",
          "data": {
            "text/plain": [
              "'Dear Asmita, you are invited to a party. that is happening tonight at 8, please be there'"
            ],
            "application/vnd.google.colaboratory.intrinsic+json": {
              "type": "string"
            }
          },
          "metadata": {},
          "execution_count": 122
        }
      ]
    },
    {
      "cell_type": "code",
      "source": [
        "# syn:\n",
        "# def -> define\n",
        "\n",
        "# def funcName(argument1, arg2, .....agrN):\n",
        "    # operation"
      ],
      "metadata": {
        "id": "ARTlvayRsV0J"
      },
      "execution_count": null,
      "outputs": []
    },
    {
      "cell_type": "code",
      "source": [
        "# sum up two pair of number"
      ],
      "metadata": {
        "id": "FhqkCeiwsqD6"
      },
      "execution_count": null,
      "outputs": []
    },
    {
      "cell_type": "code",
      "source": [
        "sum(45, 67)"
      ],
      "metadata": {
        "colab": {
          "base_uri": "https://localhost:8080/"
        },
        "id": "YM2UDiAfsuV3",
        "outputId": "17f487eb-c73d-4b4a-d4d2-a8a30e1c3f67"
      },
      "execution_count": null,
      "outputs": [
        {
          "output_type": "execute_result",
          "data": {
            "text/plain": [
              "112"
            ]
          },
          "metadata": {},
          "execution_count": 125
        }
      ]
    },
    {
      "cell_type": "markdown",
      "source": [
        "<hr>\n",
        "\n",
        "#**Topic 6: Lambda Function**#\n",
        "\n",
        "Def: One Liner Function\n",
        "\n",
        "<hr>"
      ],
      "metadata": {
        "id": "OF0lINUTs4uk"
      }
    },
    {
      "cell_type": "code",
      "source": [
        "# syn:\n",
        "# funcName = lambda para1, par2 : operation\n",
        "\n",
        "sumfunc = lambda a,b: a+b\n",
        "sumfunc(56, 98)"
      ],
      "metadata": {
        "colab": {
          "base_uri": "https://localhost:8080/"
        },
        "id": "ABO62APVswTh",
        "outputId": "ddf5712e-4191-428d-d4be-5dbae3058b21"
      },
      "execution_count": null,
      "outputs": [
        {
          "output_type": "execute_result",
          "data": {
            "text/plain": [
              "154"
            ]
          },
          "metadata": {},
          "execution_count": 126
        }
      ]
    },
    {
      "cell_type": "code",
      "source": [
        "friendList = ['Dev', 'Kushagra',\n",
        "              'Asmita', 'Swati', 'Giriraj']\n",
        "# def funcName (para)\n",
        "def inviteFunc(para):\n",
        "  for i in para:\n",
        "    print(f'Dear {i}, \\nYou are invited to a party hosted by Python Team.\\nVenue: ABC Towers.\\nTimings:6:30PM')\n",
        "    print('---------------')"
      ],
      "metadata": {
        "id": "R_Soa4Rit0Cs"
      },
      "execution_count": null,
      "outputs": []
    },
    {
      "cell_type": "code",
      "source": [
        "# function calling\n",
        "\n",
        "inviteFunc(friendList)"
      ],
      "metadata": {
        "colab": {
          "base_uri": "https://localhost:8080/"
        },
        "id": "2vJ1pKOzuzab",
        "outputId": "f1457d92-3c6c-465a-d3dc-9b82f074dd8c"
      },
      "execution_count": null,
      "outputs": [
        {
          "output_type": "stream",
          "name": "stdout",
          "text": [
            "Dear Dev, \n",
            "You are invited to a party hosted by Python Team.\n",
            "Venue: ABC Towers.\n",
            "Timings:6:30PM\n",
            "---------------\n",
            "Dear Kushagra, \n",
            "You are invited to a party hosted by Python Team.\n",
            "Venue: ABC Towers.\n",
            "Timings:6:30PM\n",
            "---------------\n",
            "Dear Asmita, \n",
            "You are invited to a party hosted by Python Team.\n",
            "Venue: ABC Towers.\n",
            "Timings:6:30PM\n",
            "---------------\n",
            "Dear Swati, \n",
            "You are invited to a party hosted by Python Team.\n",
            "Venue: ABC Towers.\n",
            "Timings:6:30PM\n",
            "---------------\n",
            "Dear Giriraj, \n",
            "You are invited to a party hosted by Python Team.\n",
            "Venue: ABC Towers.\n",
            "Timings:6:30PM\n",
            "---------------\n"
          ]
        }
      ]
    },
    {
      "cell_type": "code",
      "source": [],
      "metadata": {
        "id": "vY2gJNpPu1Y2"
      },
      "execution_count": null,
      "outputs": []
    }
  ]
}