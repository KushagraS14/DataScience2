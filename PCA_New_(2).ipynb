{
  "cells": [
    {
      "cell_type": "code",
      "execution_count": null,
      "metadata": {
        "id": "_MQ0CB4bB_ei"
      },
      "outputs": [],
      "source": [
        "import pandas as pd"
      ]
    },
    {
      "cell_type": "code",
      "execution_count": null,
      "metadata": {
        "id": "n0b2yqg0L6YF"
      },
      "outputs": [],
      "source": [
        "data = pd.read_csv('nba_final.csv')"
      ]
    },
    {
      "cell_type": "code",
      "execution_count": null,
      "metadata": {
        "colab": {
          "base_uri": "https://localhost:8080/"
        },
        "id": "_vZQ3s5AMrPt",
        "outputId": "7b2aca50-a02d-442c-9e32-a8a6e14e8fae"
      },
      "outputs": [
        {
          "data": {
            "text/plain": [
              "(1408, 45)"
            ]
          },
          "execution_count": 37,
          "metadata": {},
          "output_type": "execute_result"
        }
      ],
      "source": [
        "data.shape"
      ]
    },
    {
      "cell_type": "code",
      "execution_count": null,
      "metadata": {
        "colab": {
          "base_uri": "https://localhost:8080/"
        },
        "id": "lNPLp53iNuHb",
        "outputId": "487b3c4f-6924-4b5f-a100-b7fd1884b69c"
      },
      "outputs": [
        {
          "name": "stdout",
          "output_type": "stream",
          "text": [
            "<class 'pandas.core.frame.DataFrame'>\n",
            "RangeIndex: 1408 entries, 0 to 1407\n",
            "Data columns (total 45 columns):\n",
            " #   Column      Non-Null Count  Dtype  \n",
            "---  ------      --------------  -----  \n",
            " 0   Rk          1408 non-null   int64  \n",
            " 1   Player.x    1408 non-null   object \n",
            " 2   Player_ID   1408 non-null   object \n",
            " 3   Pos1        1408 non-null   object \n",
            " 4   Pos2        12 non-null     object \n",
            " 5   Age         1408 non-null   int64  \n",
            " 6   Tm          1408 non-null   object \n",
            " 7   G           1408 non-null   int64  \n",
            " 8   GS          1408 non-null   int64  \n",
            " 9   MP          1408 non-null   float64\n",
            " 10  FG          1408 non-null   float64\n",
            " 11  FGA         1408 non-null   float64\n",
            " 12  FG.         1404 non-null   float64\n",
            " 13  X3P         1408 non-null   float64\n",
            " 14  X3PA        1408 non-null   float64\n",
            " 15  X3P.        1309 non-null   float64\n",
            " 16  X2P         1408 non-null   float64\n",
            " 17  X2PA        1408 non-null   float64\n",
            " 18  X2P.        1393 non-null   float64\n",
            " 19  eFG.        1404 non-null   float64\n",
            " 20  FT          1408 non-null   float64\n",
            " 21  FTA         1408 non-null   float64\n",
            " 22  FT.         1361 non-null   float64\n",
            " 23  ORB         1408 non-null   float64\n",
            " 24  DRB         1408 non-null   float64\n",
            " 25  TRB         1408 non-null   float64\n",
            " 26  AST         1408 non-null   float64\n",
            " 27  STL         1408 non-null   float64\n",
            " 28  BLK         1408 non-null   float64\n",
            " 29  TOV         1408 non-null   float64\n",
            " 30  PF          1408 non-null   float64\n",
            " 31  PTS         1408 non-null   float64\n",
            " 32  Salary      1346 non-null   float64\n",
            " 33  mean_views  1270 non-null   float64\n",
            " 34  Season      1408 non-null   object \n",
            " 35  Conference  1408 non-null   object \n",
            " 36  Role        1408 non-null   object \n",
            " 37  Fvot        1408 non-null   int64  \n",
            " 38  FRank       1408 non-null   int64  \n",
            " 39  Pvot        1249 non-null   float64\n",
            " 40  PRank       1249 non-null   float64\n",
            " 41  Mvot        1004 non-null   float64\n",
            " 42  MRank       1004 non-null   float64\n",
            " 43  Score       1408 non-null   float64\n",
            " 44  Play        1408 non-null   object \n",
            "dtypes: float64(30), int64(6), object(9)\n",
            "memory usage: 495.1+ KB\n"
          ]
        }
      ],
      "source": [
        "data.info()"
      ]
    },
    {
      "cell_type": "code",
      "execution_count": null,
      "metadata": {
        "colab": {
          "base_uri": "https://localhost:8080/"
        },
        "id": "W8zQkB8aMxSf",
        "outputId": "d69be3ef-9f0d-4aed-d8f0-a91b613615f2"
      },
      "outputs": [
        {
          "data": {
            "text/plain": [
              "Rk               0\n",
              "Player.x         0\n",
              "Player_ID        0\n",
              "Pos1             0\n",
              "Pos2          1396\n",
              "Age              0\n",
              "Tm               0\n",
              "G                0\n",
              "GS               0\n",
              "MP               0\n",
              "FG               0\n",
              "FGA              0\n",
              "FG.              4\n",
              "X3P              0\n",
              "X3PA             0\n",
              "X3P.            99\n",
              "X2P              0\n",
              "X2PA             0\n",
              "X2P.            15\n",
              "eFG.             4\n",
              "FT               0\n",
              "FTA              0\n",
              "FT.             47\n",
              "ORB              0\n",
              "DRB              0\n",
              "TRB              0\n",
              "AST              0\n",
              "STL              0\n",
              "BLK              0\n",
              "TOV              0\n",
              "PF               0\n",
              "PTS              0\n",
              "Salary          62\n",
              "mean_views     138\n",
              "Season           0\n",
              "Conference       0\n",
              "Role             0\n",
              "Fvot             0\n",
              "FRank            0\n",
              "Pvot           159\n",
              "PRank          159\n",
              "Mvot           404\n",
              "MRank          404\n",
              "Score            0\n",
              "Play             0\n",
              "dtype: int64"
            ]
          },
          "execution_count": 39,
          "metadata": {},
          "output_type": "execute_result"
        }
      ],
      "source": [
        "data.isna().sum()"
      ]
    },
    {
      "cell_type": "code",
      "execution_count": null,
      "metadata": {
        "colab": {
          "base_uri": "https://localhost:8080/"
        },
        "id": "FaYSchU1O31b",
        "outputId": "c4846be7-1d78-48f5-d5db-cb88262d913c"
      },
      "outputs": [
        {
          "data": {
            "text/plain": [
              "array(['NONE', 'C', 'SG', 'SF', 'PF'], dtype=object)"
            ]
          },
          "execution_count": 40,
          "metadata": {},
          "output_type": "execute_result"
        }
      ],
      "source": [
        "import numpy as np\n",
        "data['Pos2'] = data['Pos2'].replace(np.nan, 'NONE')\n",
        "data['Pos2'].unique()"
      ]
    },
    {
      "cell_type": "code",
      "execution_count": null,
      "metadata": {
        "id": "ujZTbcgoPwzY"
      },
      "outputs": [],
      "source": [
        "data = data.fillna(0)"
      ]
    },
    {
      "cell_type": "code",
      "execution_count": null,
      "metadata": {
        "colab": {
          "base_uri": "https://localhost:8080/"
        },
        "id": "NVuAZrrDQPHN",
        "outputId": "2274a4c7-9cdf-457b-a187-0b736834dc59"
      },
      "outputs": [
        {
          "data": {
            "text/plain": [
              "Rk            0\n",
              "Player.x      0\n",
              "Player_ID     0\n",
              "Pos1          0\n",
              "Pos2          0\n",
              "Age           0\n",
              "Tm            0\n",
              "G             0\n",
              "GS            0\n",
              "MP            0\n",
              "FG            0\n",
              "FGA           0\n",
              "FG.           0\n",
              "X3P           0\n",
              "X3PA          0\n",
              "X3P.          0\n",
              "X2P           0\n",
              "X2PA          0\n",
              "X2P.          0\n",
              "eFG.          0\n",
              "FT            0\n",
              "FTA           0\n",
              "FT.           0\n",
              "ORB           0\n",
              "DRB           0\n",
              "TRB           0\n",
              "AST           0\n",
              "STL           0\n",
              "BLK           0\n",
              "TOV           0\n",
              "PF            0\n",
              "PTS           0\n",
              "Salary        0\n",
              "mean_views    0\n",
              "Season        0\n",
              "Conference    0\n",
              "Role          0\n",
              "Fvot          0\n",
              "FRank         0\n",
              "Pvot          0\n",
              "PRank         0\n",
              "Mvot          0\n",
              "MRank         0\n",
              "Score         0\n",
              "Play          0\n",
              "dtype: int64"
            ]
          },
          "execution_count": 42,
          "metadata": {},
          "output_type": "execute_result"
        }
      ],
      "source": [
        "data.isna().sum()"
      ]
    },
    {
      "cell_type": "code",
      "execution_count": null,
      "metadata": {
        "colab": {
          "base_uri": "https://localhost:8080/",
          "height": 279
        },
        "id": "hyzdOSlyZMfs",
        "outputId": "c2ce6ca6-5192-43d0-c013-a6725f38f825"
      },
      "outputs": [
        {
          "data": {
            "text/html": [
              "<div>\n",
              "<style scoped>\n",
              "    .dataframe tbody tr th:only-of-type {\n",
              "        vertical-align: middle;\n",
              "    }\n",
              "\n",
              "    .dataframe tbody tr th {\n",
              "        vertical-align: top;\n",
              "    }\n",
              "\n",
              "    .dataframe thead th {\n",
              "        text-align: right;\n",
              "    }\n",
              "</style>\n",
              "<table border=\"1\" class=\"dataframe\">\n",
              "  <thead>\n",
              "    <tr style=\"text-align: right;\">\n",
              "      <th></th>\n",
              "      <th>Rk</th>\n",
              "      <th>Player.x</th>\n",
              "      <th>Player_ID</th>\n",
              "      <th>Pos1</th>\n",
              "      <th>Pos2</th>\n",
              "      <th>Age</th>\n",
              "      <th>Tm</th>\n",
              "      <th>G</th>\n",
              "      <th>GS</th>\n",
              "      <th>MP</th>\n",
              "      <th>...</th>\n",
              "      <th>Conference</th>\n",
              "      <th>Role</th>\n",
              "      <th>Fvot</th>\n",
              "      <th>FRank</th>\n",
              "      <th>Pvot</th>\n",
              "      <th>PRank</th>\n",
              "      <th>Mvot</th>\n",
              "      <th>MRank</th>\n",
              "      <th>Score</th>\n",
              "      <th>Play</th>\n",
              "    </tr>\n",
              "  </thead>\n",
              "  <tbody>\n",
              "    <tr>\n",
              "      <th>0</th>\n",
              "      <td>170</td>\n",
              "      <td>A.J. Hammons</td>\n",
              "      <td>hammoaj01</td>\n",
              "      <td>C</td>\n",
              "      <td>NONE</td>\n",
              "      <td>24</td>\n",
              "      <td>DAL</td>\n",
              "      <td>22</td>\n",
              "      <td>0</td>\n",
              "      <td>7.4</td>\n",
              "      <td>...</td>\n",
              "      <td>West</td>\n",
              "      <td>Front</td>\n",
              "      <td>786</td>\n",
              "      <td>123</td>\n",
              "      <td>0.0</td>\n",
              "      <td>0.0</td>\n",
              "      <td>0.0</td>\n",
              "      <td>0.0</td>\n",
              "      <td>83.5</td>\n",
              "      <td>No</td>\n",
              "    </tr>\n",
              "    <tr>\n",
              "      <th>1</th>\n",
              "      <td>58</td>\n",
              "      <td>Aaron Brooks</td>\n",
              "      <td>brookaa01</td>\n",
              "      <td>PG</td>\n",
              "      <td>NONE</td>\n",
              "      <td>32</td>\n",
              "      <td>IND</td>\n",
              "      <td>65</td>\n",
              "      <td>0</td>\n",
              "      <td>13.8</td>\n",
              "      <td>...</td>\n",
              "      <td>Est</td>\n",
              "      <td>Back</td>\n",
              "      <td>2474</td>\n",
              "      <td>64</td>\n",
              "      <td>0.0</td>\n",
              "      <td>0.0</td>\n",
              "      <td>0.0</td>\n",
              "      <td>0.0</td>\n",
              "      <td>48.2</td>\n",
              "      <td>No</td>\n",
              "    </tr>\n",
              "    <tr>\n",
              "      <th>2</th>\n",
              "      <td>157</td>\n",
              "      <td>Aaron Gordon</td>\n",
              "      <td>gordoaa01</td>\n",
              "      <td>SF</td>\n",
              "      <td>NONE</td>\n",
              "      <td>21</td>\n",
              "      <td>ORL</td>\n",
              "      <td>80</td>\n",
              "      <td>72</td>\n",
              "      <td>28.7</td>\n",
              "      <td>...</td>\n",
              "      <td>Est</td>\n",
              "      <td>Front</td>\n",
              "      <td>22774</td>\n",
              "      <td>29</td>\n",
              "      <td>0.0</td>\n",
              "      <td>0.0</td>\n",
              "      <td>0.0</td>\n",
              "      <td>0.0</td>\n",
              "      <td>40.0</td>\n",
              "      <td>No</td>\n",
              "    </tr>\n",
              "    <tr>\n",
              "      <th>3</th>\n",
              "      <td>352</td>\n",
              "      <td>Adreian Payne</td>\n",
              "      <td>paynead01</td>\n",
              "      <td>PF</td>\n",
              "      <td>NONE</td>\n",
              "      <td>25</td>\n",
              "      <td>MIN</td>\n",
              "      <td>18</td>\n",
              "      <td>0</td>\n",
              "      <td>7.5</td>\n",
              "      <td>...</td>\n",
              "      <td>West</td>\n",
              "      <td>Front</td>\n",
              "      <td>861</td>\n",
              "      <td>120</td>\n",
              "      <td>1.0</td>\n",
              "      <td>52.0</td>\n",
              "      <td>0.0</td>\n",
              "      <td>0.0</td>\n",
              "      <td>75.5</td>\n",
              "      <td>No</td>\n",
              "    </tr>\n",
              "    <tr>\n",
              "      <th>4</th>\n",
              "      <td>10</td>\n",
              "      <td>Al-Farouq Aminu</td>\n",
              "      <td>aminual01</td>\n",
              "      <td>PF</td>\n",
              "      <td>NONE</td>\n",
              "      <td>26</td>\n",
              "      <td>POR</td>\n",
              "      <td>61</td>\n",
              "      <td>25</td>\n",
              "      <td>29.1</td>\n",
              "      <td>...</td>\n",
              "      <td>West</td>\n",
              "      <td>Front</td>\n",
              "      <td>4971</td>\n",
              "      <td>69</td>\n",
              "      <td>7.0</td>\n",
              "      <td>23.0</td>\n",
              "      <td>0.0</td>\n",
              "      <td>0.0</td>\n",
              "      <td>42.8</td>\n",
              "      <td>No</td>\n",
              "    </tr>\n",
              "  </tbody>\n",
              "</table>\n",
              "<p>5 rows × 45 columns</p>\n",
              "</div>"
            ],
            "text/plain": [
              "    Rk         Player.x  Player_ID Pos1  Pos2  Age   Tm   G  GS    MP  ...  \\\n",
              "0  170     A.J. Hammons  hammoaj01    C  NONE   24  DAL  22   0   7.4  ...   \n",
              "1   58     Aaron Brooks  brookaa01   PG  NONE   32  IND  65   0  13.8  ...   \n",
              "2  157     Aaron Gordon  gordoaa01   SF  NONE   21  ORL  80  72  28.7  ...   \n",
              "3  352    Adreian Payne  paynead01   PF  NONE   25  MIN  18   0   7.5  ...   \n",
              "4   10  Al-Farouq Aminu  aminual01   PF  NONE   26  POR  61  25  29.1  ...   \n",
              "\n",
              "   Conference   Role   Fvot  FRank  Pvot  PRank  Mvot  MRank  Score  Play  \n",
              "0        West  Front    786    123   0.0    0.0   0.0    0.0   83.5    No  \n",
              "1         Est   Back   2474     64   0.0    0.0   0.0    0.0   48.2    No  \n",
              "2         Est  Front  22774     29   0.0    0.0   0.0    0.0   40.0    No  \n",
              "3        West  Front    861    120   1.0   52.0   0.0    0.0   75.5    No  \n",
              "4        West  Front   4971     69   7.0   23.0   0.0    0.0   42.8    No  \n",
              "\n",
              "[5 rows x 45 columns]"
            ]
          },
          "execution_count": 43,
          "metadata": {},
          "output_type": "execute_result"
        }
      ],
      "source": [
        "data.head()"
      ]
    },
    {
      "cell_type": "code",
      "execution_count": null,
      "metadata": {
        "colab": {
          "base_uri": "https://localhost:8080/"
        },
        "id": "WbA5PLcsZHUo",
        "outputId": "3b1a452a-2b67-45c9-c4f0-ee223353648f"
      },
      "outputs": [
        {
          "name": "stdout",
          "output_type": "stream",
          "text": [
            "<class 'pandas.core.frame.DataFrame'>\n",
            "RangeIndex: 1408 entries, 0 to 1407\n",
            "Data columns (total 45 columns):\n",
            " #   Column      Non-Null Count  Dtype  \n",
            "---  ------      --------------  -----  \n",
            " 0   Rk          1408 non-null   int64  \n",
            " 1   Player.x    1408 non-null   object \n",
            " 2   Player_ID   1408 non-null   object \n",
            " 3   Pos1        1408 non-null   object \n",
            " 4   Pos2        1408 non-null   object \n",
            " 5   Age         1408 non-null   int64  \n",
            " 6   Tm          1408 non-null   object \n",
            " 7   G           1408 non-null   int64  \n",
            " 8   GS          1408 non-null   int64  \n",
            " 9   MP          1408 non-null   float64\n",
            " 10  FG          1408 non-null   float64\n",
            " 11  FGA         1408 non-null   float64\n",
            " 12  FG.         1408 non-null   float64\n",
            " 13  X3P         1408 non-null   float64\n",
            " 14  X3PA        1408 non-null   float64\n",
            " 15  X3P.        1408 non-null   float64\n",
            " 16  X2P         1408 non-null   float64\n",
            " 17  X2PA        1408 non-null   float64\n",
            " 18  X2P.        1408 non-null   float64\n",
            " 19  eFG.        1408 non-null   float64\n",
            " 20  FT          1408 non-null   float64\n",
            " 21  FTA         1408 non-null   float64\n",
            " 22  FT.         1408 non-null   float64\n",
            " 23  ORB         1408 non-null   float64\n",
            " 24  DRB         1408 non-null   float64\n",
            " 25  TRB         1408 non-null   float64\n",
            " 26  AST         1408 non-null   float64\n",
            " 27  STL         1408 non-null   float64\n",
            " 28  BLK         1408 non-null   float64\n",
            " 29  TOV         1408 non-null   float64\n",
            " 30  PF          1408 non-null   float64\n",
            " 31  PTS         1408 non-null   float64\n",
            " 32  Salary      1408 non-null   float64\n",
            " 33  mean_views  1408 non-null   float64\n",
            " 34  Season      1408 non-null   object \n",
            " 35  Conference  1408 non-null   object \n",
            " 36  Role        1408 non-null   object \n",
            " 37  Fvot        1408 non-null   int64  \n",
            " 38  FRank       1408 non-null   int64  \n",
            " 39  Pvot        1408 non-null   float64\n",
            " 40  PRank       1408 non-null   float64\n",
            " 41  Mvot        1408 non-null   float64\n",
            " 42  MRank       1408 non-null   float64\n",
            " 43  Score       1408 non-null   float64\n",
            " 44  Play        1408 non-null   object \n",
            "dtypes: float64(30), int64(6), object(9)\n",
            "memory usage: 495.1+ KB\n"
          ]
        }
      ],
      "source": [
        "data.info()"
      ]
    },
    {
      "cell_type": "code",
      "execution_count": null,
      "metadata": {
        "id": "uFe0ZF54aOX2"
      },
      "outputs": [],
      "source": [
        "data = data.drop(['Player.x','Player_ID'], axis=1)"
      ]
    },
    {
      "cell_type": "code",
      "execution_count": null,
      "metadata": {
        "id": "hDKm8zuiY8P_"
      },
      "outputs": [],
      "source": [
        "from sklearn.preprocessing import LabelEncoder\n",
        "\n",
        "Le = LabelEncoder()\n",
        "\n",
        "data['Pos1'] = Le.fit_transform(data['Pos1'])\n",
        "data['Pos2'] = Le.fit_transform(data['Pos2'])\n",
        "data['Tm'] = Le.fit_transform(data['Tm'])\n",
        "data['Season'] = Le.fit_transform(data['Season'])\n",
        "data['Conference'] = Le.fit_transform(data['Conference'])\n",
        "data['Role'] = Le.fit_transform(data['Role'])\n",
        "data['Play'] = Le.fit_transform(data['Play'])"
      ]
    },
    {
      "cell_type": "code",
      "execution_count": null,
      "metadata": {
        "colab": {
          "base_uri": "https://localhost:8080/",
          "height": 235
        },
        "id": "jVPWeY9CaYR-",
        "outputId": "cad33490-37b6-492e-b271-f0fda6dc8359"
      },
      "outputs": [
        {
          "data": {
            "text/html": [
              "<div>\n",
              "<style scoped>\n",
              "    .dataframe tbody tr th:only-of-type {\n",
              "        vertical-align: middle;\n",
              "    }\n",
              "\n",
              "    .dataframe tbody tr th {\n",
              "        vertical-align: top;\n",
              "    }\n",
              "\n",
              "    .dataframe thead th {\n",
              "        text-align: right;\n",
              "    }\n",
              "</style>\n",
              "<table border=\"1\" class=\"dataframe\">\n",
              "  <thead>\n",
              "    <tr style=\"text-align: right;\">\n",
              "      <th></th>\n",
              "      <th>Rk</th>\n",
              "      <th>Pos1</th>\n",
              "      <th>Pos2</th>\n",
              "      <th>Age</th>\n",
              "      <th>Tm</th>\n",
              "      <th>G</th>\n",
              "      <th>GS</th>\n",
              "      <th>MP</th>\n",
              "      <th>FG</th>\n",
              "      <th>FGA</th>\n",
              "      <th>...</th>\n",
              "      <th>Conference</th>\n",
              "      <th>Role</th>\n",
              "      <th>Fvot</th>\n",
              "      <th>FRank</th>\n",
              "      <th>Pvot</th>\n",
              "      <th>PRank</th>\n",
              "      <th>Mvot</th>\n",
              "      <th>MRank</th>\n",
              "      <th>Score</th>\n",
              "      <th>Play</th>\n",
              "    </tr>\n",
              "  </thead>\n",
              "  <tbody>\n",
              "    <tr>\n",
              "      <th>0</th>\n",
              "      <td>170</td>\n",
              "      <td>0</td>\n",
              "      <td>1</td>\n",
              "      <td>24</td>\n",
              "      <td>6</td>\n",
              "      <td>22</td>\n",
              "      <td>0</td>\n",
              "      <td>7.4</td>\n",
              "      <td>0.8</td>\n",
              "      <td>1.9</td>\n",
              "      <td>...</td>\n",
              "      <td>1</td>\n",
              "      <td>1</td>\n",
              "      <td>786</td>\n",
              "      <td>123</td>\n",
              "      <td>0.0</td>\n",
              "      <td>0.0</td>\n",
              "      <td>0.0</td>\n",
              "      <td>0.0</td>\n",
              "      <td>83.5</td>\n",
              "      <td>0</td>\n",
              "    </tr>\n",
              "    <tr>\n",
              "      <th>1</th>\n",
              "      <td>58</td>\n",
              "      <td>2</td>\n",
              "      <td>1</td>\n",
              "      <td>32</td>\n",
              "      <td>11</td>\n",
              "      <td>65</td>\n",
              "      <td>0</td>\n",
              "      <td>13.8</td>\n",
              "      <td>1.9</td>\n",
              "      <td>4.6</td>\n",
              "      <td>...</td>\n",
              "      <td>0</td>\n",
              "      <td>0</td>\n",
              "      <td>2474</td>\n",
              "      <td>64</td>\n",
              "      <td>0.0</td>\n",
              "      <td>0.0</td>\n",
              "      <td>0.0</td>\n",
              "      <td>0.0</td>\n",
              "      <td>48.2</td>\n",
              "      <td>0</td>\n",
              "    </tr>\n",
              "    <tr>\n",
              "      <th>2</th>\n",
              "      <td>157</td>\n",
              "      <td>3</td>\n",
              "      <td>1</td>\n",
              "      <td>21</td>\n",
              "      <td>21</td>\n",
              "      <td>80</td>\n",
              "      <td>72</td>\n",
              "      <td>28.7</td>\n",
              "      <td>4.9</td>\n",
              "      <td>10.8</td>\n",
              "      <td>...</td>\n",
              "      <td>0</td>\n",
              "      <td>1</td>\n",
              "      <td>22774</td>\n",
              "      <td>29</td>\n",
              "      <td>0.0</td>\n",
              "      <td>0.0</td>\n",
              "      <td>0.0</td>\n",
              "      <td>0.0</td>\n",
              "      <td>40.0</td>\n",
              "      <td>0</td>\n",
              "    </tr>\n",
              "    <tr>\n",
              "      <th>3</th>\n",
              "      <td>352</td>\n",
              "      <td>1</td>\n",
              "      <td>1</td>\n",
              "      <td>25</td>\n",
              "      <td>17</td>\n",
              "      <td>18</td>\n",
              "      <td>0</td>\n",
              "      <td>7.5</td>\n",
              "      <td>1.3</td>\n",
              "      <td>3.0</td>\n",
              "      <td>...</td>\n",
              "      <td>1</td>\n",
              "      <td>1</td>\n",
              "      <td>861</td>\n",
              "      <td>120</td>\n",
              "      <td>1.0</td>\n",
              "      <td>52.0</td>\n",
              "      <td>0.0</td>\n",
              "      <td>0.0</td>\n",
              "      <td>75.5</td>\n",
              "      <td>0</td>\n",
              "    </tr>\n",
              "    <tr>\n",
              "      <th>4</th>\n",
              "      <td>10</td>\n",
              "      <td>1</td>\n",
              "      <td>1</td>\n",
              "      <td>26</td>\n",
              "      <td>24</td>\n",
              "      <td>61</td>\n",
              "      <td>25</td>\n",
              "      <td>29.1</td>\n",
              "      <td>3.0</td>\n",
              "      <td>7.6</td>\n",
              "      <td>...</td>\n",
              "      <td>1</td>\n",
              "      <td>1</td>\n",
              "      <td>4971</td>\n",
              "      <td>69</td>\n",
              "      <td>7.0</td>\n",
              "      <td>23.0</td>\n",
              "      <td>0.0</td>\n",
              "      <td>0.0</td>\n",
              "      <td>42.8</td>\n",
              "      <td>0</td>\n",
              "    </tr>\n",
              "  </tbody>\n",
              "</table>\n",
              "<p>5 rows × 43 columns</p>\n",
              "</div>"
            ],
            "text/plain": [
              "    Rk  Pos1  Pos2  Age  Tm   G  GS    MP   FG   FGA  ...  Conference  Role  \\\n",
              "0  170     0     1   24   6  22   0   7.4  0.8   1.9  ...           1     1   \n",
              "1   58     2     1   32  11  65   0  13.8  1.9   4.6  ...           0     0   \n",
              "2  157     3     1   21  21  80  72  28.7  4.9  10.8  ...           0     1   \n",
              "3  352     1     1   25  17  18   0   7.5  1.3   3.0  ...           1     1   \n",
              "4   10     1     1   26  24  61  25  29.1  3.0   7.6  ...           1     1   \n",
              "\n",
              "    Fvot  FRank  Pvot  PRank  Mvot  MRank  Score  Play  \n",
              "0    786    123   0.0    0.0   0.0    0.0   83.5     0  \n",
              "1   2474     64   0.0    0.0   0.0    0.0   48.2     0  \n",
              "2  22774     29   0.0    0.0   0.0    0.0   40.0     0  \n",
              "3    861    120   1.0   52.0   0.0    0.0   75.5     0  \n",
              "4   4971     69   7.0   23.0   0.0    0.0   42.8     0  \n",
              "\n",
              "[5 rows x 43 columns]"
            ]
          },
          "execution_count": 13,
          "metadata": {},
          "output_type": "execute_result"
        }
      ],
      "source": [
        "data.head()"
      ]
    },
    {
      "cell_type": "code",
      "execution_count": null,
      "metadata": {
        "id": "SJdUJGdTY2xP"
      },
      "outputs": [],
      "source": [
        "X = data.drop(['Play'], axis=1)\n",
        "y = data['Play']"
      ]
    },
    {
      "cell_type": "code",
      "execution_count": null,
      "metadata": {
        "id": "65-vfsMPacpG"
      },
      "outputs": [],
      "source": [
        "#standardize\n",
        "from sklearn.preprocessing import StandardScaler\n",
        "\n",
        "sc = StandardScaler()\n",
        "X = sc.fit_transform(X)"
      ]
    },
    {
      "cell_type": "code",
      "execution_count": null,
      "metadata": {
        "colab": {
          "base_uri": "https://localhost:8080/"
        },
        "id": "GckD7kwTSFpX",
        "outputId": "feedc3cf-bfdb-406e-e9ad-0cd6f6a03539"
      },
      "outputs": [
        {
          "data": {
            "text/plain": [
              "(1408, 42)"
            ]
          },
          "execution_count": 16,
          "metadata": {},
          "output_type": "execute_result"
        }
      ],
      "source": [
        "X.shape"
      ]
    },
    {
      "cell_type": "code",
      "execution_count": null,
      "metadata": {
        "id": "GFTocjSIb5Ws"
      },
      "outputs": [],
      "source": [
        "#PCA\n",
        "from sklearn.decomposition import PCA\n",
        "\n",
        "p = PCA(n_components=0.80)  #80% variabce\n",
        "pca_data = p.fit_transform(X)"
      ]
    },
    {
      "cell_type": "code",
      "execution_count": null,
      "metadata": {
        "colab": {
          "base_uri": "https://localhost:8080/"
        },
        "id": "JqCi1dYmdDHK",
        "outputId": "cf268f6d-3e5e-4475-e4df-f30d23ed98cd"
      },
      "outputs": [
        {
          "data": {
            "text/plain": [
              "(1408, 11)"
            ]
          },
          "execution_count": 18,
          "metadata": {},
          "output_type": "execute_result"
        }
      ],
      "source": [
        "pca_data.shape"
      ]
    },
    {
      "cell_type": "code",
      "execution_count": null,
      "metadata": {
        "colab": {
          "base_uri": "https://localhost:8080/"
        },
        "id": "Fh1Zm9gocGGd",
        "outputId": "a444363b-598f-4048-b0a5-8ca0ba576d1c"
      },
      "outputs": [
        {
          "data": {
            "text/plain": [
              "array([0.37517468, 0.11318263, 0.06357514, 0.05902237, 0.04680467,\n",
              "       0.03172583, 0.03046723, 0.02577529, 0.02377414, 0.02341929,\n",
              "       0.02008227])"
            ]
          },
          "execution_count": 19,
          "metadata": {},
          "output_type": "execute_result"
        }
      ],
      "source": [
        "p.explained_variance_ratio_"
      ]
    },
    {
      "cell_type": "code",
      "execution_count": null,
      "metadata": {
        "colab": {
          "base_uri": "https://localhost:8080/"
        },
        "id": "CJbB_8gxcbvF",
        "outputId": "04a27aad-cd22-4abf-ce63-2e9f460c7bd0"
      },
      "outputs": [
        {
          "data": {
            "text/plain": [
              "11"
            ]
          },
          "execution_count": 20,
          "metadata": {},
          "output_type": "execute_result"
        }
      ],
      "source": [
        "p.n_components_"
      ]
    },
    {
      "cell_type": "code",
      "execution_count": null,
      "metadata": {
        "id": "-oZJeT_XjcIT"
      },
      "outputs": [],
      "source": [
        "from sklearn.model_selection import train_test_split\n",
        "\n",
        "X_train, X_test, y_train, y_test = train_test_split(pca_data, y, test_size= 0.3, random_state=29)"
      ]
    },
    {
      "cell_type": "code",
      "execution_count": null,
      "metadata": {
        "colab": {
          "base_uri": "https://localhost:8080/"
        },
        "id": "yWCX6GlPBumr",
        "outputId": "3d321bb5-d678-4c6a-861d-23321833e646"
      },
      "outputs": [
        {
          "data": {
            "text/plain": [
              "(985, 11)"
            ]
          },
          "execution_count": 22,
          "metadata": {},
          "output_type": "execute_result"
        }
      ],
      "source": [
        "X_train.shape"
      ]
    },
    {
      "cell_type": "code",
      "execution_count": null,
      "metadata": {
        "id": "91Jf_KYsczgo"
      },
      "outputs": [],
      "source": [
        "#logistic regression\n",
        "from sklearn.linear_model import LogisticRegression\n",
        "\n",
        "lr = LogisticRegression()"
      ]
    },
    {
      "cell_type": "code",
      "execution_count": null,
      "metadata": {
        "colab": {
          "base_uri": "https://localhost:8080/"
        },
        "id": "NKPrwT4di--H",
        "outputId": "f527d396-2380-4eee-e689-d196c98563e8"
      },
      "outputs": [
        {
          "data": {
            "text/html": [
              "<style>#sk-container-id-1 {color: black;}#sk-container-id-1 pre{padding: 0;}#sk-container-id-1 div.sk-toggleable {background-color: white;}#sk-container-id-1 label.sk-toggleable__label {cursor: pointer;display: block;width: 100%;margin-bottom: 0;padding: 0.3em;box-sizing: border-box;text-align: center;}#sk-container-id-1 label.sk-toggleable__label-arrow:before {content: \"▸\";float: left;margin-right: 0.25em;color: #696969;}#sk-container-id-1 label.sk-toggleable__label-arrow:hover:before {color: black;}#sk-container-id-1 div.sk-estimator:hover label.sk-toggleable__label-arrow:before {color: black;}#sk-container-id-1 div.sk-toggleable__content {max-height: 0;max-width: 0;overflow: hidden;text-align: left;background-color: #f0f8ff;}#sk-container-id-1 div.sk-toggleable__content pre {margin: 0.2em;color: black;border-radius: 0.25em;background-color: #f0f8ff;}#sk-container-id-1 input.sk-toggleable__control:checked~div.sk-toggleable__content {max-height: 200px;max-width: 100%;overflow: auto;}#sk-container-id-1 input.sk-toggleable__control:checked~label.sk-toggleable__label-arrow:before {content: \"▾\";}#sk-container-id-1 div.sk-estimator input.sk-toggleable__control:checked~label.sk-toggleable__label {background-color: #d4ebff;}#sk-container-id-1 div.sk-label input.sk-toggleable__control:checked~label.sk-toggleable__label {background-color: #d4ebff;}#sk-container-id-1 input.sk-hidden--visually {border: 0;clip: rect(1px 1px 1px 1px);clip: rect(1px, 1px, 1px, 1px);height: 1px;margin: -1px;overflow: hidden;padding: 0;position: absolute;width: 1px;}#sk-container-id-1 div.sk-estimator {font-family: monospace;background-color: #f0f8ff;border: 1px dotted black;border-radius: 0.25em;box-sizing: border-box;margin-bottom: 0.5em;}#sk-container-id-1 div.sk-estimator:hover {background-color: #d4ebff;}#sk-container-id-1 div.sk-parallel-item::after {content: \"\";width: 100%;border-bottom: 1px solid gray;flex-grow: 1;}#sk-container-id-1 div.sk-label:hover label.sk-toggleable__label {background-color: #d4ebff;}#sk-container-id-1 div.sk-serial::before {content: \"\";position: absolute;border-left: 1px solid gray;box-sizing: border-box;top: 0;bottom: 0;left: 50%;z-index: 0;}#sk-container-id-1 div.sk-serial {display: flex;flex-direction: column;align-items: center;background-color: white;padding-right: 0.2em;padding-left: 0.2em;position: relative;}#sk-container-id-1 div.sk-item {position: relative;z-index: 1;}#sk-container-id-1 div.sk-parallel {display: flex;align-items: stretch;justify-content: center;background-color: white;position: relative;}#sk-container-id-1 div.sk-item::before, #sk-container-id-1 div.sk-parallel-item::before {content: \"\";position: absolute;border-left: 1px solid gray;box-sizing: border-box;top: 0;bottom: 0;left: 50%;z-index: -1;}#sk-container-id-1 div.sk-parallel-item {display: flex;flex-direction: column;z-index: 1;position: relative;background-color: white;}#sk-container-id-1 div.sk-parallel-item:first-child::after {align-self: flex-end;width: 50%;}#sk-container-id-1 div.sk-parallel-item:last-child::after {align-self: flex-start;width: 50%;}#sk-container-id-1 div.sk-parallel-item:only-child::after {width: 0;}#sk-container-id-1 div.sk-dashed-wrapped {border: 1px dashed gray;margin: 0 0.4em 0.5em 0.4em;box-sizing: border-box;padding-bottom: 0.4em;background-color: white;}#sk-container-id-1 div.sk-label label {font-family: monospace;font-weight: bold;display: inline-block;line-height: 1.2em;}#sk-container-id-1 div.sk-label-container {text-align: center;}#sk-container-id-1 div.sk-container {/* jupyter's `normalize.less` sets `[hidden] { display: none; }` but bootstrap.min.css set `[hidden] { display: none !important; }` so we also need the `!important` here to be able to override the default hidden behavior on the sphinx rendered scikit-learn.org. See: https://github.com/scikit-learn/scikit-learn/issues/21755 */display: inline-block !important;position: relative;}#sk-container-id-1 div.sk-text-repr-fallback {display: none;}</style><div id=\"sk-container-id-1\" class=\"sk-top-container\"><div class=\"sk-text-repr-fallback\"><pre>LogisticRegression()</pre><b>In a Jupyter environment, please rerun this cell to show the HTML representation or trust the notebook. <br />On GitHub, the HTML representation is unable to render, please try loading this page with nbviewer.org.</b></div><div class=\"sk-container\" hidden><div class=\"sk-item\"><div class=\"sk-estimator sk-toggleable\"><input class=\"sk-toggleable__control sk-hidden--visually\" id=\"sk-estimator-id-1\" type=\"checkbox\" checked><label for=\"sk-estimator-id-1\" class=\"sk-toggleable__label sk-toggleable__label-arrow\">LogisticRegression</label><div class=\"sk-toggleable__content\"><pre>LogisticRegression()</pre></div></div></div></div></div>"
            ],
            "text/plain": [
              "LogisticRegression()"
            ]
          },
          "execution_count": 24,
          "metadata": {},
          "output_type": "execute_result"
        }
      ],
      "source": [
        "lr.fit(X_train, y_train)"
      ]
    },
    {
      "cell_type": "code",
      "execution_count": null,
      "metadata": {
        "id": "DrjMr8FqjH0B"
      },
      "outputs": [],
      "source": [
        "lr_pred = lr.predict(X_test)"
      ]
    },
    {
      "cell_type": "code",
      "execution_count": null,
      "metadata": {
        "colab": {
          "base_uri": "https://localhost:8080/"
        },
        "id": "mlu_lDiHjlwO",
        "outputId": "620566b0-2e01-40e0-b200-7ff030d59656"
      },
      "outputs": [
        {
          "name": "stdout",
          "output_type": "stream",
          "text": [
            "              precision    recall  f1-score   support\n",
            "\n",
            "           0       1.00      0.99      0.99       409\n",
            "           1       0.68      0.93      0.79        14\n",
            "\n",
            "    accuracy                           0.98       423\n",
            "   macro avg       0.84      0.96      0.89       423\n",
            "weighted avg       0.99      0.98      0.98       423\n",
            "\n"
          ]
        }
      ],
      "source": [
        "from sklearn.metrics import classification_report\n",
        "\n",
        "cr = classification_report(lr_pred, y_test)\n",
        "print(cr)"
      ]
    },
    {
      "cell_type": "code",
      "execution_count": null,
      "metadata": {
        "id": "L0hiD0ESiFbY"
      },
      "outputs": [],
      "source": [
        "#decision tree classifier\n",
        "from sklearn.tree import DecisionTreeClassifier\n",
        "\n",
        "dt = DecisionTreeClassifier()"
      ]
    },
    {
      "cell_type": "code",
      "execution_count": null,
      "metadata": {
        "colab": {
          "base_uri": "https://localhost:8080/"
        },
        "id": "BrKsrUG_kQde",
        "outputId": "4a198582-e699-4c36-8594-dad61dca5b6a"
      },
      "outputs": [
        {
          "data": {
            "text/html": [
              "<style>#sk-container-id-2 {color: black;}#sk-container-id-2 pre{padding: 0;}#sk-container-id-2 div.sk-toggleable {background-color: white;}#sk-container-id-2 label.sk-toggleable__label {cursor: pointer;display: block;width: 100%;margin-bottom: 0;padding: 0.3em;box-sizing: border-box;text-align: center;}#sk-container-id-2 label.sk-toggleable__label-arrow:before {content: \"▸\";float: left;margin-right: 0.25em;color: #696969;}#sk-container-id-2 label.sk-toggleable__label-arrow:hover:before {color: black;}#sk-container-id-2 div.sk-estimator:hover label.sk-toggleable__label-arrow:before {color: black;}#sk-container-id-2 div.sk-toggleable__content {max-height: 0;max-width: 0;overflow: hidden;text-align: left;background-color: #f0f8ff;}#sk-container-id-2 div.sk-toggleable__content pre {margin: 0.2em;color: black;border-radius: 0.25em;background-color: #f0f8ff;}#sk-container-id-2 input.sk-toggleable__control:checked~div.sk-toggleable__content {max-height: 200px;max-width: 100%;overflow: auto;}#sk-container-id-2 input.sk-toggleable__control:checked~label.sk-toggleable__label-arrow:before {content: \"▾\";}#sk-container-id-2 div.sk-estimator input.sk-toggleable__control:checked~label.sk-toggleable__label {background-color: #d4ebff;}#sk-container-id-2 div.sk-label input.sk-toggleable__control:checked~label.sk-toggleable__label {background-color: #d4ebff;}#sk-container-id-2 input.sk-hidden--visually {border: 0;clip: rect(1px 1px 1px 1px);clip: rect(1px, 1px, 1px, 1px);height: 1px;margin: -1px;overflow: hidden;padding: 0;position: absolute;width: 1px;}#sk-container-id-2 div.sk-estimator {font-family: monospace;background-color: #f0f8ff;border: 1px dotted black;border-radius: 0.25em;box-sizing: border-box;margin-bottom: 0.5em;}#sk-container-id-2 div.sk-estimator:hover {background-color: #d4ebff;}#sk-container-id-2 div.sk-parallel-item::after {content: \"\";width: 100%;border-bottom: 1px solid gray;flex-grow: 1;}#sk-container-id-2 div.sk-label:hover label.sk-toggleable__label {background-color: #d4ebff;}#sk-container-id-2 div.sk-serial::before {content: \"\";position: absolute;border-left: 1px solid gray;box-sizing: border-box;top: 0;bottom: 0;left: 50%;z-index: 0;}#sk-container-id-2 div.sk-serial {display: flex;flex-direction: column;align-items: center;background-color: white;padding-right: 0.2em;padding-left: 0.2em;position: relative;}#sk-container-id-2 div.sk-item {position: relative;z-index: 1;}#sk-container-id-2 div.sk-parallel {display: flex;align-items: stretch;justify-content: center;background-color: white;position: relative;}#sk-container-id-2 div.sk-item::before, #sk-container-id-2 div.sk-parallel-item::before {content: \"\";position: absolute;border-left: 1px solid gray;box-sizing: border-box;top: 0;bottom: 0;left: 50%;z-index: -1;}#sk-container-id-2 div.sk-parallel-item {display: flex;flex-direction: column;z-index: 1;position: relative;background-color: white;}#sk-container-id-2 div.sk-parallel-item:first-child::after {align-self: flex-end;width: 50%;}#sk-container-id-2 div.sk-parallel-item:last-child::after {align-self: flex-start;width: 50%;}#sk-container-id-2 div.sk-parallel-item:only-child::after {width: 0;}#sk-container-id-2 div.sk-dashed-wrapped {border: 1px dashed gray;margin: 0 0.4em 0.5em 0.4em;box-sizing: border-box;padding-bottom: 0.4em;background-color: white;}#sk-container-id-2 div.sk-label label {font-family: monospace;font-weight: bold;display: inline-block;line-height: 1.2em;}#sk-container-id-2 div.sk-label-container {text-align: center;}#sk-container-id-2 div.sk-container {/* jupyter's `normalize.less` sets `[hidden] { display: none; }` but bootstrap.min.css set `[hidden] { display: none !important; }` so we also need the `!important` here to be able to override the default hidden behavior on the sphinx rendered scikit-learn.org. See: https://github.com/scikit-learn/scikit-learn/issues/21755 */display: inline-block !important;position: relative;}#sk-container-id-2 div.sk-text-repr-fallback {display: none;}</style><div id=\"sk-container-id-2\" class=\"sk-top-container\"><div class=\"sk-text-repr-fallback\"><pre>DecisionTreeClassifier()</pre><b>In a Jupyter environment, please rerun this cell to show the HTML representation or trust the notebook. <br />On GitHub, the HTML representation is unable to render, please try loading this page with nbviewer.org.</b></div><div class=\"sk-container\" hidden><div class=\"sk-item\"><div class=\"sk-estimator sk-toggleable\"><input class=\"sk-toggleable__control sk-hidden--visually\" id=\"sk-estimator-id-2\" type=\"checkbox\" checked><label for=\"sk-estimator-id-2\" class=\"sk-toggleable__label sk-toggleable__label-arrow\">DecisionTreeClassifier</label><div class=\"sk-toggleable__content\"><pre>DecisionTreeClassifier()</pre></div></div></div></div></div>"
            ],
            "text/plain": [
              "DecisionTreeClassifier()"
            ]
          },
          "execution_count": 28,
          "metadata": {},
          "output_type": "execute_result"
        }
      ],
      "source": [
        "dt.fit(X_train, y_train)"
      ]
    },
    {
      "cell_type": "code",
      "execution_count": null,
      "metadata": {
        "id": "j5hUAG5-kVLZ"
      },
      "outputs": [],
      "source": [
        "pred_dt = dt.predict(X_test)"
      ]
    },
    {
      "cell_type": "code",
      "execution_count": null,
      "metadata": {
        "colab": {
          "base_uri": "https://localhost:8080/"
        },
        "id": "E2k9gx4ekYmN",
        "outputId": "291e7ac8-5f66-4038-9bc4-3ede21a8e8e3"
      },
      "outputs": [
        {
          "name": "stdout",
          "output_type": "stream",
          "text": [
            "              precision    recall  f1-score   support\n",
            "\n",
            "           0       0.99      0.99      0.99       405\n",
            "           1       0.68      0.72      0.70        18\n",
            "\n",
            "    accuracy                           0.97       423\n",
            "   macro avg       0.84      0.85      0.84       423\n",
            "weighted avg       0.97      0.97      0.97       423\n",
            "\n"
          ]
        }
      ],
      "source": [
        "cr_dt = classification_report(pred_dt, y_test)\n",
        "print(cr_dt)"
      ]
    },
    {
      "cell_type": "code",
      "execution_count": null,
      "metadata": {
        "id": "jmwz9iayiHaQ"
      },
      "outputs": [],
      "source": [
        "#random forest classifier\n",
        "from sklearn.ensemble import RandomForestClassifier\n",
        "\n",
        "rf = RandomForestClassifier()"
      ]
    },
    {
      "cell_type": "code",
      "execution_count": null,
      "metadata": {
        "colab": {
          "base_uri": "https://localhost:8080/"
        },
        "id": "HHPvT58olQGB",
        "outputId": "2535c411-1da5-4e8c-8b80-3d81a76e763d"
      },
      "outputs": [
        {
          "data": {
            "text/html": [
              "<style>#sk-container-id-3 {color: black;}#sk-container-id-3 pre{padding: 0;}#sk-container-id-3 div.sk-toggleable {background-color: white;}#sk-container-id-3 label.sk-toggleable__label {cursor: pointer;display: block;width: 100%;margin-bottom: 0;padding: 0.3em;box-sizing: border-box;text-align: center;}#sk-container-id-3 label.sk-toggleable__label-arrow:before {content: \"▸\";float: left;margin-right: 0.25em;color: #696969;}#sk-container-id-3 label.sk-toggleable__label-arrow:hover:before {color: black;}#sk-container-id-3 div.sk-estimator:hover label.sk-toggleable__label-arrow:before {color: black;}#sk-container-id-3 div.sk-toggleable__content {max-height: 0;max-width: 0;overflow: hidden;text-align: left;background-color: #f0f8ff;}#sk-container-id-3 div.sk-toggleable__content pre {margin: 0.2em;color: black;border-radius: 0.25em;background-color: #f0f8ff;}#sk-container-id-3 input.sk-toggleable__control:checked~div.sk-toggleable__content {max-height: 200px;max-width: 100%;overflow: auto;}#sk-container-id-3 input.sk-toggleable__control:checked~label.sk-toggleable__label-arrow:before {content: \"▾\";}#sk-container-id-3 div.sk-estimator input.sk-toggleable__control:checked~label.sk-toggleable__label {background-color: #d4ebff;}#sk-container-id-3 div.sk-label input.sk-toggleable__control:checked~label.sk-toggleable__label {background-color: #d4ebff;}#sk-container-id-3 input.sk-hidden--visually {border: 0;clip: rect(1px 1px 1px 1px);clip: rect(1px, 1px, 1px, 1px);height: 1px;margin: -1px;overflow: hidden;padding: 0;position: absolute;width: 1px;}#sk-container-id-3 div.sk-estimator {font-family: monospace;background-color: #f0f8ff;border: 1px dotted black;border-radius: 0.25em;box-sizing: border-box;margin-bottom: 0.5em;}#sk-container-id-3 div.sk-estimator:hover {background-color: #d4ebff;}#sk-container-id-3 div.sk-parallel-item::after {content: \"\";width: 100%;border-bottom: 1px solid gray;flex-grow: 1;}#sk-container-id-3 div.sk-label:hover label.sk-toggleable__label {background-color: #d4ebff;}#sk-container-id-3 div.sk-serial::before {content: \"\";position: absolute;border-left: 1px solid gray;box-sizing: border-box;top: 0;bottom: 0;left: 50%;z-index: 0;}#sk-container-id-3 div.sk-serial {display: flex;flex-direction: column;align-items: center;background-color: white;padding-right: 0.2em;padding-left: 0.2em;position: relative;}#sk-container-id-3 div.sk-item {position: relative;z-index: 1;}#sk-container-id-3 div.sk-parallel {display: flex;align-items: stretch;justify-content: center;background-color: white;position: relative;}#sk-container-id-3 div.sk-item::before, #sk-container-id-3 div.sk-parallel-item::before {content: \"\";position: absolute;border-left: 1px solid gray;box-sizing: border-box;top: 0;bottom: 0;left: 50%;z-index: -1;}#sk-container-id-3 div.sk-parallel-item {display: flex;flex-direction: column;z-index: 1;position: relative;background-color: white;}#sk-container-id-3 div.sk-parallel-item:first-child::after {align-self: flex-end;width: 50%;}#sk-container-id-3 div.sk-parallel-item:last-child::after {align-self: flex-start;width: 50%;}#sk-container-id-3 div.sk-parallel-item:only-child::after {width: 0;}#sk-container-id-3 div.sk-dashed-wrapped {border: 1px dashed gray;margin: 0 0.4em 0.5em 0.4em;box-sizing: border-box;padding-bottom: 0.4em;background-color: white;}#sk-container-id-3 div.sk-label label {font-family: monospace;font-weight: bold;display: inline-block;line-height: 1.2em;}#sk-container-id-3 div.sk-label-container {text-align: center;}#sk-container-id-3 div.sk-container {/* jupyter's `normalize.less` sets `[hidden] { display: none; }` but bootstrap.min.css set `[hidden] { display: none !important; }` so we also need the `!important` here to be able to override the default hidden behavior on the sphinx rendered scikit-learn.org. See: https://github.com/scikit-learn/scikit-learn/issues/21755 */display: inline-block !important;position: relative;}#sk-container-id-3 div.sk-text-repr-fallback {display: none;}</style><div id=\"sk-container-id-3\" class=\"sk-top-container\"><div class=\"sk-text-repr-fallback\"><pre>RandomForestClassifier()</pre><b>In a Jupyter environment, please rerun this cell to show the HTML representation or trust the notebook. <br />On GitHub, the HTML representation is unable to render, please try loading this page with nbviewer.org.</b></div><div class=\"sk-container\" hidden><div class=\"sk-item\"><div class=\"sk-estimator sk-toggleable\"><input class=\"sk-toggleable__control sk-hidden--visually\" id=\"sk-estimator-id-3\" type=\"checkbox\" checked><label for=\"sk-estimator-id-3\" class=\"sk-toggleable__label sk-toggleable__label-arrow\">RandomForestClassifier</label><div class=\"sk-toggleable__content\"><pre>RandomForestClassifier()</pre></div></div></div></div></div>"
            ],
            "text/plain": [
              "RandomForestClassifier()"
            ]
          },
          "execution_count": 32,
          "metadata": {},
          "output_type": "execute_result"
        }
      ],
      "source": [
        "rf.fit(X_train, y_train)"
      ]
    },
    {
      "cell_type": "code",
      "execution_count": null,
      "metadata": {
        "id": "QLQC-MawlTHS"
      },
      "outputs": [],
      "source": [
        "pred_rf = rf.predict(X_test)"
      ]
    },
    {
      "cell_type": "code",
      "execution_count": null,
      "metadata": {
        "colab": {
          "base_uri": "https://localhost:8080/"
        },
        "id": "5Uld-GY6lW92",
        "outputId": "f9d62be9-f3a9-4819-95ec-7b507aacd1b2"
      },
      "outputs": [
        {
          "name": "stdout",
          "output_type": "stream",
          "text": [
            "              precision    recall  f1-score   support\n",
            "\n",
            "           0       1.00      0.98      0.99       411\n",
            "           1       0.63      1.00      0.77        12\n",
            "\n",
            "    accuracy                           0.98       423\n",
            "   macro avg       0.82      0.99      0.88       423\n",
            "weighted avg       0.99      0.98      0.99       423\n",
            "\n"
          ]
        }
      ],
      "source": [
        "cr_rf = classification_report(pred_rf, y_test)\n",
        "print(cr_rf)"
      ]
    }
  ],
  "metadata": {
    "colab": {
      "provenance": []
    },
    "kernelspec": {
      "display_name": "Python 3 (ipykernel)",
      "language": "python",
      "name": "python3"
    },
    "language_info": {
      "codemirror_mode": {
        "name": "ipython",
        "version": 3
      },
      "file_extension": ".py",
      "mimetype": "text/x-python",
      "name": "python",
      "nbconvert_exporter": "python",
      "pygments_lexer": "ipython3",
      "version": "3.11.4"
    }
  },
  "nbformat": 4,
  "nbformat_minor": 0
}